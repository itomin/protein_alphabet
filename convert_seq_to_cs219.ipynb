{
 "cells": [
  {
   "cell_type": "code",
   "execution_count": 1,
   "metadata": {},
   "outputs": [],
   "source": [
    "from os import listdir\n",
    "from os.path import isfile, join\n",
    "import os\n",
    "import multiprocessing"
   ]
  },
  {
   "cell_type": "code",
   "execution_count": 26,
   "metadata": {},
   "outputs": [],
   "source": [
    "p = \"/mnt/cath/\"\n",
    "fastaFiles = [f[0:f.index(\"fasta\")-1] for f in listdir(p) if isfile(join(p, f)) and not f.endswith(\".hhr\")]"
   ]
  },
  {
   "cell_type": "code",
   "execution_count": 2,
   "metadata": {},
   "outputs": [],
   "source": [
    "a3m = \"/mnt/a3ms/\"\n",
    "done = [f[0:f.index(\"a3m\")-1] for f in listdir(a3m) if isfile(join(a3m, f))]"
   ]
  },
  {
   "cell_type": "code",
   "execution_count": 28,
   "metadata": {},
   "outputs": [],
   "source": [
    "fastaFiles = set(fastaFiles) - set(done)"
   ]
  },
  {
   "cell_type": "code",
   "execution_count": null,
   "metadata": {},
   "outputs": [],
   "source": [
    "def convert_to_a3m(f):\n",
    "    os.system(\"hhblits -i cath/%s.fasta -oa3m a3ms/%s.a3m  -d uniprot20_2016_02/uniprot20_2016_02 -cpu 8 -n 1\" % (f, f[0:f.index(\"fasta\")-1]))\n",
    "\n",
    "pool = multiprocessing.Pool(8)\n",
    "pool.map(convert, fastaFiles)\n"
   ]
  },
  {
   "cell_type": "code",
   "execution_count": 7,
   "metadata": {},
   "outputs": [
    {
     "data": {
      "text/plain": [
       "[None, None, None, None, None, None, None, None, None]"
      ]
     },
     "execution_count": 7,
     "metadata": {},
     "output_type": "execute_result"
    }
   ],
   "source": [
    "def convert_to_cs(f):\n",
    "    os.system(\"/usr/lib/hhsuite/bin/cstranslate -i a3ms/%s.a3m -A /usr/lib/hhsuite/data/cs219.lib -o cs219/%s.as\" % (f, f))\n",
    "\n",
    "pool = multiprocessing.Pool(8)\n",
    "pool.map(convert_to_cs, done)\n"
   ]
  },
  {
   "cell_type": "code",
   "execution_count": 6,
   "metadata": {},
   "outputs": [
    {
     "data": {
      "text/plain": [
       "['3c97A01',\n",
       " '4k7zA03',\n",
       " '1npyA01',\n",
       " '3zn6A02',\n",
       " '4ecnA01',\n",
       " '2lhrA00',\n",
       " '2rjiA00',\n",
       " '4qkbA00',\n",
       " '1b5fC00']"
      ]
     },
     "execution_count": 6,
     "metadata": {},
     "output_type": "execute_result"
    }
   ],
   "source": []
  }
 ],
 "metadata": {
  "kernelspec": {
   "display_name": "Python 3",
   "language": "python",
   "name": "python3"
  },
  "language_info": {
   "codemirror_mode": {
    "name": "ipython",
    "version": 3
   },
   "file_extension": ".py",
   "mimetype": "text/x-python",
   "name": "python",
   "nbconvert_exporter": "python",
   "pygments_lexer": "ipython3",
   "version": "3.6.5"
  }
 },
 "nbformat": 4,
 "nbformat_minor": 2
}
