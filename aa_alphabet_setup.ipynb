{
 "cells": [
  {
   "cell_type": "code",
   "execution_count": 1,
   "metadata": {},
   "outputs": [],
   "source": [
    "import pandas as pd\n",
    "from Bio import SeqIO\n",
    "import os\n",
    "from os import listdir\n",
    "from os.path import isfile, join\n",
    "from Bio.SeqRecord import SeqRecord\n",
    "from Bio.Seq import Seq"
   ]
  },
  {
   "cell_type": "code",
   "execution_count": 2,
   "metadata": {},
   "outputs": [],
   "source": [
    "source_dir = \"../data/pdb_str/fasta/\"\n",
    "dirs = [ \"\".join([source_dir, f]) for f in listdir(source_dir)]\n"
   ]
  },
  {
   "cell_type": "code",
   "execution_count": 18,
   "metadata": {},
   "outputs": [],
   "source": [
    "def readPDB(fasta):\n",
    "    pdb = None\n",
    "    for record in SeqIO.parse(fasta, \"fasta\"):\n",
    "        pdb = \"\".join(list(record.seq))\n",
    "    return pdb"
   ]
  },
  {
   "cell_type": "code",
   "execution_count": 19,
   "metadata": {},
   "outputs": [],
   "source": [
    "seq = [ readPDB(f) for f in dirs ] \n",
    "pdb_ids = [ f.split(\"/\")[-1].split(\".\")[0] for f in dirs ] "
   ]
  },
  {
   "cell_type": "code",
   "execution_count": 23,
   "metadata": {},
   "outputs": [],
   "source": [
    "d = {'pdb': pdb_ids, 'seq': seq}\n",
    "df = pd.DataFrame(data=d)\n",
    "df.to_csv(\"../data/pdb_str/fasta/all_aa_cath.csv\", index=False)"
   ]
  },
  {
   "cell_type": "code",
   "execution_count": 22,
   "metadata": {},
   "outputs": [
    {
     "data": {
      "text/html": [
       "<div>\n",
       "<style scoped>\n",
       "    .dataframe tbody tr th:only-of-type {\n",
       "        vertical-align: middle;\n",
       "    }\n",
       "\n",
       "    .dataframe tbody tr th {\n",
       "        vertical-align: top;\n",
       "    }\n",
       "\n",
       "    .dataframe thead th {\n",
       "        text-align: right;\n",
       "    }\n",
       "</style>\n",
       "<table border=\"1\" class=\"dataframe\">\n",
       "  <thead>\n",
       "    <tr style=\"text-align: right;\">\n",
       "      <th></th>\n",
       "      <th>pdb</th>\n",
       "      <th>seq</th>\n",
       "    </tr>\n",
       "  </thead>\n",
       "  <tbody>\n",
       "    <tr>\n",
       "      <th>0</th>\n",
       "      <td>12asA00</td>\n",
       "      <td>AYIAKQRQISFVKSHFSRQLEERLGLIEVQAPILSRVGDGTQDNLS...</td>\n",
       "    </tr>\n",
       "    <tr>\n",
       "      <th>1</th>\n",
       "      <td>132lA00</td>\n",
       "      <td>VFGRCELAAAMRHGLDNYRGYSLGNWVCAAFESNFNTQATNRNTDG...</td>\n",
       "    </tr>\n",
       "    <tr>\n",
       "      <th>2</th>\n",
       "      <td>153lA00</td>\n",
       "      <td>RTDCYGNVNRIDTTGASCKTAKPEGLSYCGVSASKKIAERDLQAMD...</td>\n",
       "    </tr>\n",
       "    <tr>\n",
       "      <th>3</th>\n",
       "      <td>155cA00</td>\n",
       "      <td>NEGDAAKGEKEFNKCKACHMIQAPDGTDIKGGKTGPNLYGVVGRKI...</td>\n",
       "    </tr>\n",
       "    <tr>\n",
       "      <th>4</th>\n",
       "      <td>16pkA02</td>\n",
       "      <td>YFAKVLGNPPRPLVAIVGGAKVSDKIQLLDNMLQRIDYLLIGGAMA...</td>\n",
       "    </tr>\n",
       "  </tbody>\n",
       "</table>\n",
       "</div>"
      ],
      "text/plain": [
       "       pdb                                                seq\n",
       "0  12asA00  AYIAKQRQISFVKSHFSRQLEERLGLIEVQAPILSRVGDGTQDNLS...\n",
       "1  132lA00  VFGRCELAAAMRHGLDNYRGYSLGNWVCAAFESNFNTQATNRNTDG...\n",
       "2  153lA00  RTDCYGNVNRIDTTGASCKTAKPEGLSYCGVSASKKIAERDLQAMD...\n",
       "3  155cA00  NEGDAAKGEKEFNKCKACHMIQAPDGTDIKGGKTGPNLYGVVGRKI...\n",
       "4  16pkA02  YFAKVLGNPPRPLVAIVGGAKVSDKIQLLDNMLQRIDYLLIGGAMA..."
      ]
     },
     "execution_count": 22,
     "metadata": {},
     "output_type": "execute_result"
    }
   ],
   "source": [
    "df.head()"
   ]
  },
  {
   "cell_type": "code",
   "execution_count": null,
   "metadata": {},
   "outputs": [],
   "source": []
  }
 ],
 "metadata": {
  "kernelspec": {
   "display_name": "Python 3",
   "language": "python",
   "name": "python3"
  },
  "language_info": {
   "codemirror_mode": {
    "name": "ipython",
    "version": 3
   },
   "file_extension": ".py",
   "mimetype": "text/x-python",
   "name": "python",
   "nbconvert_exporter": "python",
   "pygments_lexer": "ipython3",
   "version": "3.7.1"
  }
 },
 "nbformat": 4,
 "nbformat_minor": 2
}
