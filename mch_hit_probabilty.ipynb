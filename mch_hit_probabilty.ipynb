{
 "cells": [
  {
   "cell_type": "code",
   "execution_count": null,
   "metadata": {},
   "outputs": [],
   "source": [
    "import pandas as pd\n",
    "import numpy as np\n",
    "import mchmm as mc\n",
    "import seaborn as sbn\n",
    "import matplotlib.pyplot as plt\n",
    "from tqdm import tqdm\n",
    "tqdm.pandas()"
   ]
  },
  {
   "cell_type": "code",
   "execution_count": 2,
   "metadata": {},
   "outputs": [],
   "source": [
    "# def hit_prob(seq, order=2):\n",
    "#     P0 = binom[binom.letter == seq[0:order]].prob\n",
    "#     probs = [ trm[seq[i+1]][seq[i]] for i,L in enumerate(seq) if i < len(seq)-1 ]\n",
    "#     return np.prod(probs) \n",
    "\n",
    "def hit_log_prob(fragment, order=2):\n",
    "    P0 = binom[binom.letter == seq[0:order]].prob.values[0]\n",
    "    P = np.log(P0) + sum([ np.log(trm.loc[seq[i-order:i]][seq[i]])  for i,L in enumerate(seq) if i >= order])\n",
    "    return P"
   ]
  },
  {
   "cell_type": "code",
   "execution_count": 3,
   "metadata": {},
   "outputs": [],
   "source": [
    "alphabet = \"pb\"\n",
    "# alphabet = \"m32k25\"\n",
    "# alphabet = \"chem\"\n",
    "# alphabet = \"aa\"\n",
    "# alphabet = \"cs219\"\n",
    "trm = pd.read_csv(\"transition_prob_2_%s.csv\" % alphabet, index_col=0, keep_default_na=False)\n",
    "binom = pd.read_csv(\"binom_prob_2_%s.csv\" % alphabet, index_col=0, keep_default_na=False)\n",
    "df = pd.read_csv(\"../data/pdb_str/statistics/%s_histogram_count_by_hit.csv\" % alphabet)"
   ]
  },
  {
   "cell_type": "code",
   "execution_count": 4,
   "metadata": {},
   "outputs": [
    {
     "data": {
      "text/plain": [
       "(776482, 3)"
      ]
     },
     "execution_count": 4,
     "metadata": {},
     "output_type": "execute_result"
    }
   ],
   "source": [
    "df[\"hit_length\"] = df.hit.apply(lambda x: len(x))\n",
    "df = df[df.hit_length > 1]\n",
    "df.shape"
   ]
  },
  {
   "cell_type": "code",
   "execution_count": 5,
   "metadata": {},
   "outputs": [
    {
     "name": "stderr",
     "output_type": "stream",
     "text": [
      "100%|█████████████████████████████████████████████████████████████████████| 776482/776482 [1:08:26<00:00, 189.06it/s]\n"
     ]
    }
   ],
   "source": [
    "df[\"log_prob\"] = df[\"hit\"].progress_apply(hit_log_prob)"
   ]
  },
  {
   "cell_type": "code",
   "execution_count": 6,
   "metadata": {},
   "outputs": [],
   "source": [
    "df.to_csv(\"../data/pdb_str/statistics/%s_histogram_mch_prob_2.csv\" % alphabet)"
   ]
  },
  {
   "cell_type": "code",
   "execution_count": null,
   "metadata": {},
   "outputs": [],
   "source": []
  }
 ],
 "metadata": {
  "kernelspec": {
   "display_name": "Python 3",
   "language": "python",
   "name": "python3"
  },
  "language_info": {
   "codemirror_mode": {
    "name": "ipython",
    "version": 3
   },
   "file_extension": ".py",
   "mimetype": "text/x-python",
   "name": "python",
   "nbconvert_exporter": "python",
   "pygments_lexer": "ipython3",
   "version": "3.7.1"
  }
 },
 "nbformat": 4,
 "nbformat_minor": 2
}
