{
 "cells": [
  {
   "cell_type": "code",
   "execution_count": null,
   "metadata": {},
   "outputs": [],
   "source": [
    "import pandas as pd\n",
    "from Bio import SeqIO\n",
    "from Bio.PDB import Vector\n",
    "from Bio.PDB import PDBParser\n",
    "from Bio.PDB import Polypeptide\n",
    "from Bio.SeqRecord import SeqRecord\n",
    "from Bio.Seq import Seq\n",
    "import warnings\n",
    "from os import listdir\n",
    "warnings.simplefilter('ignore')\n",
    "import math\n",
    "import pymol\n",
    "import numpy as np\n",
    "from Bio.PDB.Polypeptide import PPBuilder "
   ]
  },
  {
   "cell_type": "code",
   "execution_count": 2,
   "metadata": {},
   "outputs": [],
   "source": [
    "def readPDB(path):\n",
    "    for record in SeqIO.parse(path, \"fasta\"):\n",
    "        pdb = \"\".join(list(record.seq))\n",
    "    return pdb"
   ]
  },
  {
   "cell_type": "code",
   "execution_count": 16,
   "metadata": {},
   "outputs": [
    {
     "name": "stdout",
     "output_type": "stream",
     "text": [
      "AA Sequenz:\n",
      "AYIAKQRQISFVKSHFSRQLEERLGLIEVQAPILSRVGDGTQDNLSGAEKAVQVKVKALPDAQFEVVHSLAKWKRQTLGQHDFSAGEGLYTHMKALRPDEDRLSPLHSVYVDQWDWERVMGDGERQFSTLKSTVEAIWAGIKATEAAVSEEFGLAPFLPDQIHFVHSQELLSRYPDLDAKGRERAIAKDLGAVFLVGIGGKLSDGHRHDVRAPDYDDWSTPSELGHAGLNGDILVWNPVLEDAFELSSMGIRVDADTLKHQLALTGDEDRLELEWHQALLRGEMPQTIGGGIGQSRLTMLLLQLPHIGQVQAGVWPAAVRESVPSLL\n",
      "327\n",
      "M32K25 Sequenz:\n",
      "UUUUUUUUUUUUUUVUVUUWUWOQDHBHDILNBIFXSOSRFLLXOTRCDHCACCLUUMUTDBBIFLYKQWVUUUUUUUUOADHXREIBBKDAEGAMVQCNCEHWTEJTAAEILEBBIDDHXSSRKVUUUUUUUUUUUUUUUUUUUUVWUWOQFFMRHJNIDIEIJUUUUUUWMUTFHUUUUUUUUUUWJWECCDXMWRHDHWHRIKNHBIJVXVCMWRFDKTPNHNGTEHIEEILLUUORHDCMNGEEHFHDHUUUUUWUUUUPRSTVTURKUUUUUUUPSTIHEGEEIAFLUUUUUUWUOQCWJVVWNIQHEHKVUUUWVDXM\n",
      "324\n"
     ]
    }
   ],
   "source": [
    "print(\"AA Sequenz:\")\n",
    "print(readPDB(\"../data/pdb_str/fasta/12asA00.fasta\"))\n",
    "print(len(readPDB(\"../data/pdb_str/fasta/12asA00.fasta\")))\n",
    "print(\"M32K25 Sequenz:\")\n",
    "print(readPDB(\"../data/pdb_str/M32K25/12asA00\"))\n",
    "print(len(readPDB(\"../data/pdb_str/M32K25/12asA00\")))\n",
    "\n",
    "\n",
    "# # g_sa_encode -s ../atoms/12asA00.pdb -f ../atoms/12asA00.pdb -strlf output/12a s.lf_str.out -rmsdlf output/12as.lf_rmsd.xvg -xpmlf output/12as.lf.xpm -alphabet M32K25\n",
    "# Meine:\n",
    "# UUUUUUUUUUUUUUVUVUUWUWOQDHBHDILNBIFXSOSRFLLXOTRCDHCACCLUUMUTDBBIFLYKQWVUUUUUUUUOADHXREIBBKDAEGAMVQCNCEHWTEJTAAEILEBBIDDHXSSRKVUUUUUUUUUUUUUUUUUUUUVWUWOQFFMRHJNIDIEIJUUUUUUWMUTFHUUUUUUUUUUWJWECCDXMWRHDHWHRIKNHBIJVXVCMWRFDKTPNHNGTEHIEEILLUUORHDCMNGEEHFHDHUUUUUWUUUUPRSTVTURKUUUUUUUPSTIHEGEEIAFLUUUUUUWUOQCWJVVWNIQHEHKVUUUWVDXM\n",
    "\n",
    "# Von GSATools:\n",
    "# UUUUUUUUUUUUUUVUUUUWWWOQDFBHDIMNBIFXSOSRJMDXOTRCDHCACCLUUMVRGBBIFLNKQWVUUUUUUUUODDHXREGBBKDAEGMMVQCNCEKWRBKTABEKMEBBIDDHXSSRKVUUUUUUUUUUUUUUUUUUUUVWVWOQFFMQHJNIDIBIJUUUUUUWMUTFKUUUUUUUVUUWJNBLCDXMXRHDKWKRIKNHEIJTXRCMNRFDKVPRHRIREIIEBILLUUORHDCMNGEBHFIDKUUUUUWUUUUPRSTVTURJWUUUUUUPSNIHEGEBIAFLUUUUUUWUOQJNJVVWNIQIEIKVUUUWRDXM\n",
    "# UUUUUUUUUUUUUUVUUUUWWWOQDFBHDIMNBIFXSOSRJMDXOTRCDHCACCLUUMVRGBBIFLNKQWVUUUUUUUUODDHXREGBBKDAEGMMVQCNCEKWRBKTABEKMEBBIDDHXSSRKVUUUUUUUUUUUUUUUUUUUUVWVWOQFFMQHJNIDIBIJUUUUUUWMUTFKUUUUUUUVUUWJNBLCDXMXRHDKWKRIKNHEIJTXRCMNRFDKVPRHRIREIIEBILLUUORHDCMNGEBHFIDKUUUUUWUUUUPRSTVTURJWUUUUUUPSNIHEGEBIAFLUUUUUUWUOQJNJVVWNIQIEIKVUUUWRDXM"
   ]
  },
  {
   "cell_type": "code",
   "execution_count": 4,
   "metadata": {},
   "outputs": [
    {
     "name": "stdout",
     "output_type": "stream",
     "text": [
      "ATOM      1  N   MET A   1       9.469   2.142  10.947  1.00  1.72\n",
      "ATOM      2  CA  MET A   1       8.974   1.627   9.651  1.00  1.21\n",
      "ATOM      3  C   MET A   1       8.517   2.803   8.782  1.00  1.07\n",
      "ATOM      4  O   MET A   1       8.441   3.917   9.297  1.00  1.68\n",
      "ATOM      5  CB  MET A   1       7.841   0.603   9.798  1.00  1.34\n",
      "ATOM      6  CG  MET A   1       8.097  -0.489  10.839  1.00  1.63\n",
      "ATOM      7  SD  MET A   1       6.995  -1.917  10.702  1.00  2.23\n",
      "ATOM      8  CE  MET A   1       5.398  -1.122  10.434  1.00  2.61\n",
      "ATOM      9  H1  MET A   1      10.120   2.883  10.714  1.00  2.20\n",
      "ATOM     10  H2  MET A   1       8.773   2.578  11.543  1.00  2.50\n"
     ]
    }
   ],
   "source": [
    "!head \"../data/pdb_str/atoms/1grxA00\""
   ]
  },
  {
   "cell_type": "markdown",
   "metadata": {},
   "source": [
    "Fragment definition. Cα atoms are represented as spheres. The conformation is entirely described by two pseudo bond angles (ϕ1, ϕ2) and one pseudo torsion angle (θ)."
   ]
  },
  {
   "cell_type": "markdown",
   "metadata": {},
   "source": [
    "![title](m32k25_angles.png)"
   ]
  },
  {
   "cell_type": "markdown",
   "metadata": {},
   "source": [
    "![title](m32k25_angles_values.png)"
   ]
  },
  {
   "cell_type": "code",
   "execution_count": 11,
   "metadata": {},
   "outputs": [
    {
     "name": "stdout",
     "output_type": "stream",
     "text": [
      "MQTVIFGRSGCPYSVRAKDLAEKLSNERDDFQYQYVDIRAEGITKEDLQQKAGKPVETVPQIFVDQQHIGGYTDFAAWVKENLDA\n",
      "[<Vector 8.97, 1.63, 9.65>, <Vector 7.58, 3.62, 6.66>, <Vector 4.54, 2.89, 4.46>]\n",
      "[-157.01188892932996, -164.05487416484073, -150.74666916456366]\n",
      "[129.49847304834287, 126.15113957253924, 124.56981867061099]\n"
     ]
    }
   ],
   "source": [
    "for model in PDBParser().get_structure(\"1grxA00\", \"../data/pdb_str/atoms/1grxA00\"):\n",
    "    for chain in model:\n",
    "        poly = Polypeptide.Polypeptide(chain)\n",
    "        isCa = True\n",
    "        try:\n",
    "            # Get list of C-alpha atoms in the polypeptide.\n",
    "            ca_list = [ p.get_vector()  for p in poly.get_ca_list()]\n",
    "            # List of tau torsions angles for all 4 consecutive Calpha atoms.\n",
    "            tau_list = [ p * 180 / math.pi  for p in poly.get_tau_list()] \n",
    "            # List of theta angles for all 3 consecutive Calpha atoms.\n",
    "            theta_list = [ p * 180 / math.pi  for p in poly.get_theta_list()] # bond angle\n",
    "            aa_sequence = [ p  for p in poly.get_sequence()]\n",
    "        except: \n",
    "            icCa = False\n",
    "\n",
    "print(\"\".join(aa_sequence))\n",
    "print(ca_list[0:3])\n",
    "print(tau_list[0:3])\n",
    "print(theta_list[0:3])\n",
    "# if isCa:\n",
    "#     df_angles = pd.DataFrame({\"phi1\"  : theta_list[0:-1],\n",
    "#                               \"phi2\"  : theta_list[1:],\n",
    "#                               \"theta\" : tau_list})\n",
    "\n",
    "#     df_angles[\"M32K25\"] = df_angles.apply(lambda x: map2mk32k25(x.values) ,axis=1)\n",
    "#     m32k25 = \"\".join(df_angles[\"M32K25\"].values)\n",
    "#     with open(\"%s%s\" % (target_dir, pdb_id), \"w\") as o:\n",
    "#         SeqIO.write(SeqRecord(Seq(m32k25), id=pdb_id, description=\"\"), o, \"fasta\")\n"
   ]
  },
  {
   "cell_type": "markdown",
   "metadata": {},
   "source": [
    "**Die Fragment Tabelle aus dem Paper wird für das Encoding verwendet:**"
   ]
  },
  {
   "cell_type": "code",
   "execution_count": null,
   "metadata": {},
   "outputs": [],
   "source": [
    "fragments = pd.DataFrame({\n",
    "    \"fragment\" : [\"A\",\"B\",\"C\",\"D\",\"E\",\"F\",\"G\",\"H\",\"I\",\"J\",\"K\",\"L\",\"M\",\"N\",\"O\",\"P\",\"Q\",\"R\",\"S\",\"T\",\"U\",\"V\",\"W\",\"X\",\"Y\"],\n",
    "    \"phi1\" : [122.4, 129.8, 117.1,118.4, 116.7,115.6,135.3,120.1,133.6,115.9,119.7,110.0,110.0,90.1,92.4,91.8,95.9,94.5,96.3,93.0,91.4,93.3,93.8,111.4,89.0 ],\n",
    "    \"phi2\" : [119.4, 135.6, 111.0, 126.9,138.6,112.9,118.6,114.3,117.1,91.4,90.4,90.8,100.8,138.2,91.2,96.7,117.7,112.6,94.7, 92.8, 90.7, 89.1, 105.2, 94.6,95.1],\n",
    "    \"theta\": [-164.2, -176.6, -142.2, -146.1,168.7,-117.9,-148.5,-90.7,-120.8,-134.6, -105.9,-158.8,177.0,19.6,-127.4,-104.8,136.0,115.0,112.0,83.1,49.8,68.3,32.3,21.8,-54.4]\n",
    "})\n",
    "\n",
    "def map2mk32k25(v):\n",
    "    fragments[\"dist\"] = fragments[[\"phi1\",\"phi2\",\"theta\"]].apply(lambda x: np.linalg.norm(v - x), axis=1)\n",
    "    return fragments.sort_values(by=\"dist\").reset_index(drop=True).loc[0][\"fragment\"]\n",
    "\n",
    "fragments"
   ]
  },
  {
   "cell_type": "markdown",
   "metadata": {},
   "source": [
    "**Konvertiere Atom Sequenz in das M32K25 Alphabet:**"
   ]
  },
  {
   "cell_type": "code",
   "execution_count": null,
   "metadata": {},
   "outputs": [],
   "source": [
    "source_dir = \"../data/pdb_str/atoms/\"\n",
    "target_dir = \"../data/pdb_str/M32K25/\"\n",
    "source_files = [ \"\".join([source_dir, f]) for f in listdir(source_dir)]\n",
    "source_files[0:3]"
   ]
  },
  {
   "cell_type": "code",
   "execution_count": null,
   "metadata": {},
   "outputs": [],
   "source": [
    "# https://biopython.org/DIST/docs/api/Bio.PDB.Polypeptide-pysrc.html\n",
    "parser = PDBParser(PERMISSIVE=0)\n",
    "\n",
    "# 1ojw\n",
    "# 1ojx\n",
    "\n",
    "for file in source_files:\n",
    "    pdb_id = file.split(\"/\")[-1]\n",
    "\n",
    "    for model in PDBParser().get_structure(pdb_id, file):\n",
    "        for chain in model:\n",
    "            poly = Polypeptide.Polypeptide(chain)\n",
    "            isCa = True\n",
    "            try:\n",
    "#             ca_list = [ p.get_vector()  for p in poly.get_ca_list()]\n",
    "                tau_list = [ p * 180 / math.pi  for p in poly.get_tau_list()] # torsion angle\n",
    "                theta_list = [ p * 180 / math.pi  for p in poly.get_theta_list()] # bond angle\n",
    "                aa_sequence = [ p  for p in poly.get_sequence()]\n",
    "            except: \n",
    "                icCa = False\n",
    "    \n",
    "    if isCa:\n",
    "        df_angles = pd.DataFrame({\"phi1\"  : theta_list[0:-1],\n",
    "                                  \"phi2\"  : theta_list[1:],\n",
    "                                  \"theta\" : tau_list})\n",
    "\n",
    "        df_angles[\"M32K25\"] = df_angles.apply(lambda x: map2mk32k25(x.values) ,axis=1)\n",
    "        m32k25 = \"\".join(df_angles[\"M32K25\"].values)\n",
    "        with open(\"%s%s\" % (target_dir, pdb_id), \"w\") as o:\n",
    "            SeqIO.write(SeqRecord(Seq(m32k25), id=pdb_id, description=\"\"), o, \"fasta\")\n",
    "    "
   ]
  },
  {
   "cell_type": "markdown",
   "metadata": {},
   "source": [
    "**Erstelle phi-phi-theta Tabelle:  \n",
    "  phi1 = das Vektor mit den Bindungswinkeln ohne das letzte Element  \n",
    "  phi2 = das Vektor mit den Bindungswinkeln ohne das erste Element  \n",
    "  theta = Torsionswinkel**"
   ]
  },
  {
   "cell_type": "code",
   "execution_count": null,
   "metadata": {},
   "outputs": [],
   "source": [
    "df_angles = pd.DataFrame({\"phi1\"  : theta_list[0:-1],\n",
    "                          \"phi2\"  : theta_list[1:],\n",
    "                          \"theta\" : tau_list})\n",
    "\n",
    "df_angles.head()"
   ]
  },
  {
   "cell_type": "markdown",
   "metadata": {},
   "source": [
    "**Kodierung**  \n",
    "Die Atomsequenz des 12as wird nun in das Alphabet kodiert basierend auf der euklidischen Distanz. Und zwar wird zu jedem Symbol die Distanz berechnet und solches Symbol wird ausgewählt, welche die kleinste Distanz aufweist. Hier ein Beispiel für das este Atom, welches in das Symbol **U** kodiert wird."
   ]
  },
  {
   "cell_type": "code",
   "execution_count": null,
   "metadata": {},
   "outputs": [],
   "source": [
    "import numpy as np\n",
    "fragments[\"dist\"] = fragments[[\"phi1\",\"phi2\",\"theta\"]].apply(lambda x: np.linalg.norm(df_angles.loc[14] - x), axis=1)\n",
    "fragments.sort_values(by=\"dist\")"
   ]
  },
  {
   "cell_type": "code",
   "execution_count": null,
   "metadata": {},
   "outputs": [],
   "source": [
    "print(\"Anzahl der C-atome %s:\" % df_angles.shape[0])"
   ]
  },
  {
   "cell_type": "code",
   "execution_count": null,
   "metadata": {},
   "outputs": [],
   "source": [
    "print(\"Anzahl der Zeichen Aminosäuresequenz %s:\" % len(aa_sequence))\n"
   ]
  },
  {
   "cell_type": "code",
   "execution_count": null,
   "metadata": {},
   "outputs": [],
   "source": [
    "sele = \"12as\"\n",
    "# sele = \"resi 1-327\"\n",
    "resis_resolved = 0\n",
    "resis = 0\n",
    "                                 \n",
    "pymol.cmd.reinitialize()\n",
    "pymol.cmd.load(\"../data/pdb_str/pdb/12as.ent\")\n",
    "resis_resolved = pymol.cmd.iterate_state(-1, sele + \" and name ca\", 'pass')\n",
    "resis = pymol.cmd.iterate(sele + \" and name ca\", 'pass')\n",
    "\n",
    "resis_resolved == resis"
   ]
  },
  {
   "cell_type": "code",
   "execution_count": null,
   "metadata": {},
   "outputs": [],
   "source": [
    "resis_resolved"
   ]
  },
  {
   "cell_type": "code",
   "execution_count": null,
   "metadata": {},
   "outputs": [],
   "source": [
    "resis"
   ]
  },
  {
   "cell_type": "code",
   "execution_count": null,
   "metadata": {},
   "outputs": [],
   "source": [
    "C:/Users/tomin/dev/data/pdb_str/atoms/12as.ent"
   ]
  },
  {
   "cell_type": "code",
   "execution_count": null,
   "metadata": {},
   "outputs": [],
   "source": []
  }
 ],
 "metadata": {
  "kernelspec": {
   "display_name": "Python 3",
   "language": "python",
   "name": "python3"
  },
  "language_info": {
   "codemirror_mode": {
    "name": "ipython",
    "version": 3
   },
   "file_extension": ".py",
   "mimetype": "text/x-python",
   "name": "python",
   "nbconvert_exporter": "python",
   "pygments_lexer": "ipython3",
   "version": "3.7.1"
  }
 },
 "nbformat": 4,
 "nbformat_minor": 2
}
