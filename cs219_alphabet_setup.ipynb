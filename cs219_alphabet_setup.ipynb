{
 "cells": [
  {
   "cell_type": "code",
   "execution_count": 42,
   "metadata": {},
   "outputs": [],
   "source": [
    "import pandas as pd\n",
    "from Bio import SeqIO\n",
    "from os import listdir\n",
    "from os.path import isfile, join\n",
    "from Bio.SeqRecord import SeqRecord\n",
    "from Bio.Seq import Seq"
   ]
  },
  {
   "cell_type": "code",
   "execution_count": 43,
   "metadata": {},
   "outputs": [],
   "source": [
    "def readPDB(fasta):\n",
    "    cs219 = \"\"\n",
    "    with open(\"../data/pdb_str/cs219/%s\" % fasta, \"r\",  encoding=\"cp437\") as handle:\n",
    "        for record in SeqIO.parse(handle, \"fasta\"):\n",
    "            cs219 = \"\".join(record.seq)\n",
    "    return cs219"
   ]
  },
  {
   "cell_type": "code",
   "execution_count": 44,
   "metadata": {},
   "outputs": [
    {
     "data": {
      "text/plain": [
       "['132lA00.as', '153lA00.as', '155cA00.as']"
      ]
     },
     "execution_count": 44,
     "metadata": {},
     "output_type": "execute_result"
    }
   ],
   "source": [
    "fasta_dir = \"../data/pdb_str/cs219/\"\n",
    "fasta_files = [  f for f in listdir(\"../data/pdb_str/cs219/\") ]\n",
    "fasta_files[1:4]"
   ]
  },
  {
   "cell_type": "code",
   "execution_count": 37,
   "metadata": {},
   "outputs": [
    {
     "data": {
      "text/plain": [
       "['12asA00', '132lA00', '153lA00', '155cA00', '16pkA02']"
      ]
     },
     "execution_count": 37,
     "metadata": {},
     "output_type": "execute_result"
    }
   ],
   "source": [
    "pdb_ids = [ f.split(\"/\")[-1].split(\".\")[0] for f in fasta_files ] \n",
    "pdb_ids[0:5]"
   ]
  },
  {
   "cell_type": "code",
   "execution_count": 38,
   "metadata": {},
   "outputs": [],
   "source": [
    "seq = [ readPDB(f) for f in fasta_files ] "
   ]
  },
  {
   "cell_type": "code",
   "execution_count": 41,
   "metadata": {},
   "outputs": [],
   "source": [
    "d = {'pdb': pdb_ids, 'seq': seq}\n",
    "df = pd.DataFrame(data=d)\n",
    "# df.to_csv(\"../data/pdb_str/pb/all_pb_cath.csv\", index=False)\n",
    "df.to_csv(\"../data/pdb_str/cs219/all_cs219_cath.csv\", index=False)"
   ]
  },
  {
   "cell_type": "code",
   "execution_count": 40,
   "metadata": {},
   "outputs": [
    {
     "data": {
      "text/html": [
       "<div>\n",
       "<style scoped>\n",
       "    .dataframe tbody tr th:only-of-type {\n",
       "        vertical-align: middle;\n",
       "    }\n",
       "\n",
       "    .dataframe tbody tr th {\n",
       "        vertical-align: top;\n",
       "    }\n",
       "\n",
       "    .dataframe thead th {\n",
       "        text-align: right;\n",
       "    }\n",
       "</style>\n",
       "<table border=\"1\" class=\"dataframe\">\n",
       "  <thead>\n",
       "    <tr style=\"text-align: right;\">\n",
       "      <th></th>\n",
       "      <th>pdb</th>\n",
       "      <th>seq</th>\n",
       "    </tr>\n",
       "  </thead>\n",
       "  <tbody>\n",
       "    <tr>\n",
       "      <th>0</th>\n",
       "      <td>12asA00</td>\n",
       "      <td>h√░Y5{εè2σ≥X4▄ΩG{σσ,yσ╪EÅ,°ú3╩F$&lt;^l≈≈π╩&amp;&lt;0'UE]...</td>\n",
       "    </tr>\n",
       "    <tr>\n",
       "      <th>1</th>\n",
       "      <td>132lA00</td>\n",
       "      <td>╖fÆI\"L,R║,Φσ∞:⌐Γ:n┐é ₧&lt;Θ▄#H\"&lt;Rë/7çnUM≤╚╖δ ╨ΣU:...</td>\n",
       "    </tr>\n",
       "    <tr>\n",
       "      <th>2</th>\n",
       "      <td>153lA00</td>\n",
       "      <td>â⌠▐┬(&amp;U?╣σp»5Ü!R7∙±kSr─▌º,îf∙!3ñS7ßεÄ1ß∩ü╫ⁿα▀ε...</td>\n",
       "    </tr>\n",
       "    <tr>\n",
       "      <th>3</th>\n",
       "      <td>155cA00</td>\n",
       "      <td>¬Θ8'|è¼&amp;╪¼⌐Ç·║\"∞╜\"%æXµΘZπZ╗╠≡┼ºï║l!$],╘:X^&amp;)┼┌...</td>\n",
       "    </tr>\n",
       "    <tr>\n",
       "      <th>4</th>\n",
       "      <td>16pkA02</td>\n",
       "      <td>╚Eδzq⌐µδBßI$nHc?X!!F4=öÆ4A≈⌐AσδEb▄░ê' XAX8!ƒ\\F...</td>\n",
       "    </tr>\n",
       "  </tbody>\n",
       "</table>\n",
       "</div>"
      ],
      "text/plain": [
       "       pdb                                                seq\n",
       "0  12asA00  h√░Y5{εè2σ≥X4▄ΩG{σσ,yσ╪EÅ,°ú3╩F$<^l≈≈π╩&<0'UE]...\n",
       "1  132lA00  ╖fÆI\"L,R║,Φσ∞:⌐Γ:n┐é ₧<Θ▄#H\"<Rë/7çnUM≤╚╖δ ╨ΣU:...\n",
       "2  153lA00  â⌠▐┬(&U?╣σp»5Ü!R7∙±kSr─▌º,îf∙!3ñS7ßεÄ1ß∩ü╫ⁿα▀ε...\n",
       "3  155cA00  ¬Θ8'|è¼&╪¼⌐Ç·║\"∞╜\"%æXµΘZπZ╗╠≡┼ºï║l!$],╘:X^&)┼┌...\n",
       "4  16pkA02  ╚Eδzq⌐µδBßI$nHc?X!!F4=öÆ4A≈⌐AσδEb▄░ê' XAX8!ƒ\\F..."
      ]
     },
     "execution_count": 40,
     "metadata": {},
     "output_type": "execute_result"
    }
   ],
   "source": [
    "df.head()"
   ]
  },
  {
   "cell_type": "code",
   "execution_count": null,
   "metadata": {},
   "outputs": [],
   "source": []
  }
 ],
 "metadata": {
  "kernelspec": {
   "display_name": "Python 3",
   "language": "python",
   "name": "python3"
  },
  "language_info": {
   "codemirror_mode": {
    "name": "ipython",
    "version": 3
   },
   "file_extension": ".py",
   "mimetype": "text/x-python",
   "name": "python",
   "nbconvert_exporter": "python",
   "pygments_lexer": "ipython3",
   "version": "3.7.1"
  }
 },
 "nbformat": 4,
 "nbformat_minor": 2
}
