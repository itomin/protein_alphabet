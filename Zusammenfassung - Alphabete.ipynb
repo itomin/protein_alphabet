{
 "cells": [
  {
   "cell_type": "code",
   "execution_count": 9,
   "metadata": {},
   "outputs": [],
   "source": [
    "import pandas as pd\n",
    "aa = pd.read_csv(\"aa_hits_sample.csv\")\n",
    "chem = pd.read_csv(\"chem_hits_sample.csv\")\n",
    "pb = pd.read_csv(\"pb_hits_sample.csv\")\n",
    "m32 = pd.read_csv(\"m32k2_hits_sample.csv\")"
   ]
  },
  {
   "cell_type": "markdown",
   "metadata": {},
   "source": [
    "### AA "
   ]
  },
  {
   "cell_type": "markdown",
   "metadata": {},
   "source": [
    "The twenty amino acids each have assigned to them one-letter code. It is used to find fragments using suffix trees in order to filter similar sequences that are assigned to different topologies in CathDB"
   ]
  },
  {
   "cell_type": "code",
   "execution_count": 11,
   "metadata": {},
   "outputs": [
    {
     "data": {
      "text/html": [
       "<div>\n",
       "<style scoped>\n",
       "    .dataframe tbody tr th:only-of-type {\n",
       "        vertical-align: middle;\n",
       "    }\n",
       "\n",
       "    .dataframe tbody tr th {\n",
       "        vertical-align: top;\n",
       "    }\n",
       "\n",
       "    .dataframe thead th {\n",
       "        text-align: right;\n",
       "    }\n",
       "</style>\n",
       "<table border=\"1\" class=\"dataframe\">\n",
       "  <thead>\n",
       "    <tr style=\"text-align: right;\">\n",
       "      <th></th>\n",
       "      <th>x</th>\n",
       "      <th>y</th>\n",
       "      <th>hit_length</th>\n",
       "      <th>hit</th>\n",
       "      <th>X_ratio</th>\n",
       "    </tr>\n",
       "  </thead>\n",
       "  <tbody>\n",
       "    <tr>\n",
       "      <th>0</th>\n",
       "      <td>12asA00</td>\n",
       "      <td>1bgxT02</td>\n",
       "      <td>6</td>\n",
       "      <td>ALTGDE</td>\n",
       "      <td>0.0</td>\n",
       "    </tr>\n",
       "    <tr>\n",
       "      <th>1</th>\n",
       "      <td>12asA00</td>\n",
       "      <td>1ccwB01</td>\n",
       "      <td>6</td>\n",
       "      <td>AGIKAT</td>\n",
       "      <td>0.0</td>\n",
       "    </tr>\n",
       "    <tr>\n",
       "      <th>2</th>\n",
       "      <td>12asA00</td>\n",
       "      <td>1el9A01</td>\n",
       "      <td>6</td>\n",
       "      <td>QLALTG</td>\n",
       "      <td>0.0</td>\n",
       "    </tr>\n",
       "  </tbody>\n",
       "</table>\n",
       "</div>"
      ],
      "text/plain": [
       "         x        y  hit_length     hit  X_ratio\n",
       "0  12asA00  1bgxT02           6  ALTGDE      0.0\n",
       "1  12asA00  1ccwB01           6  AGIKAT      0.0\n",
       "2  12asA00  1el9A01           6  QLALTG      0.0"
      ]
     },
     "execution_count": 11,
     "metadata": {},
     "output_type": "execute_result"
    }
   ],
   "source": [
    "aa.head(3)"
   ]
  },
  {
   "cell_type": "markdown",
   "metadata": {},
   "source": [
    "### PB"
   ]
  },
  {
   "cell_type": "markdown",
   "metadata": {},
   "source": [
    "The set of PBs consists of 16 structural motifs of each **five residue long**.\n",
    "Each of the PBs is represented by a vector of eight φ,ψ dihedral angles associated with \n",
    "five consecutive Cα atoms and the 16 PBs are denoted by the letters a , b , …, p .\n",
    "\n",
    "The method uses the principle of the self-organized\n",
    "learning of the Kohonen network (or self-organized maps,\n",
    "often noted SOM45,46), i.e., by reading a certain number of\n",
    "times (called “cycles”), the totality of the vector database to\n",
    "define the “weights” of the neurons."
   ]
  },
  {
   "cell_type": "code",
   "execution_count": 12,
   "metadata": {},
   "outputs": [
    {
     "data": {
      "text/html": [
       "<div>\n",
       "<style scoped>\n",
       "    .dataframe tbody tr th:only-of-type {\n",
       "        vertical-align: middle;\n",
       "    }\n",
       "\n",
       "    .dataframe tbody tr th {\n",
       "        vertical-align: top;\n",
       "    }\n",
       "\n",
       "    .dataframe thead th {\n",
       "        text-align: right;\n",
       "    }\n",
       "</style>\n",
       "<table border=\"1\" class=\"dataframe\">\n",
       "  <thead>\n",
       "    <tr style=\"text-align: right;\">\n",
       "      <th></th>\n",
       "      <th>x</th>\n",
       "      <th>y</th>\n",
       "      <th>hit_length</th>\n",
       "      <th>pb_fragment</th>\n",
       "      <th>x_pdb_fragment</th>\n",
       "      <th>y_pdb_fragment</th>\n",
       "    </tr>\n",
       "  </thead>\n",
       "  <tbody>\n",
       "    <tr>\n",
       "      <th>0</th>\n",
       "      <td>12asA00</td>\n",
       "      <td>1a99A01</td>\n",
       "      <td>21</td>\n",
       "      <td>DDDDDDEHIACFKLMMMMMMM</td>\n",
       "      <td>DWERVMGDGERQFSTLKSTVE</td>\n",
       "      <td>TLHIYNWSDYIAPDTVANFEK</td>\n",
       "    </tr>\n",
       "    <tr>\n",
       "      <th>1</th>\n",
       "      <td>132lA00</td>\n",
       "      <td>4oyvA01</td>\n",
       "      <td>21</td>\n",
       "      <td>AFKLMMMMMMMMNOOPAKBCC</td>\n",
       "      <td>YSLGNWVCAAXFESNFNTQAT</td>\n",
       "      <td>TDWRLLAAIGYQESLWQPGAT</td>\n",
       "    </tr>\n",
       "    <tr>\n",
       "      <th>2</th>\n",
       "      <td>155cA00</td>\n",
       "      <td>1q1lB00</td>\n",
       "      <td>21</td>\n",
       "      <td>HIAGHIACDFKLMMMMMMMMM</td>\n",
       "      <td>IASEEGFKYGEGILEVAEKNP</td>\n",
       "      <td>EGIPANLPLSEEEINHELRRR</td>\n",
       "    </tr>\n",
       "  </tbody>\n",
       "</table>\n",
       "</div>"
      ],
      "text/plain": [
       "         x        y  hit_length            pb_fragment         x_pdb_fragment  \\\n",
       "0  12asA00  1a99A01          21  DDDDDDEHIACFKLMMMMMMM  DWERVMGDGERQFSTLKSTVE   \n",
       "1  132lA00  4oyvA01          21  AFKLMMMMMMMMNOOPAKBCC  YSLGNWVCAAXFESNFNTQAT   \n",
       "2  155cA00  1q1lB00          21  HIAGHIACDFKLMMMMMMMMM  IASEEGFKYGEGILEVAEKNP   \n",
       "\n",
       "          y_pdb_fragment  \n",
       "0  TLHIYNWSDYIAPDTVANFEK  \n",
       "1  TDWRLLAAIGYQESLWQPGAT  \n",
       "2  EGIPANLPLSEEEINHELRRR  "
      ]
     },
     "execution_count": 12,
     "metadata": {},
     "output_type": "execute_result"
    }
   ],
   "source": [
    "pb.head(3)"
   ]
  },
  {
   "cell_type": "markdown",
   "metadata": {},
   "source": [
    "### CHEM"
   ]
  },
  {
   "cell_type": "markdown",
   "metadata": {},
   "source": [
    "Alphabet is based on chemical properties of the different amino acids\n",
    "\n",
    "```\n",
    "sauer = [\"D\",\"E\"]\n",
    "aliphatisch = [\"A\",\"G\",\"I\",\"L\",\"V\"]\n",
    "amidisch = [\"N\", \"Q\"]\n",
    "aromatisch = [\"F\",\"W\",\"Y\"]\n",
    "basisch = [\"R\",\"H\",\"K\"]\n",
    "hydroxyl = [\"S\",\"T\"]\n",
    "imino = [\"P\"]\n",
    "schwefel = [\"C\",\"M\"] \n",
    "```"
   ]
  },
  {
   "cell_type": "code",
   "execution_count": 13,
   "metadata": {},
   "outputs": [
    {
     "data": {
      "text/html": [
       "<div>\n",
       "<style scoped>\n",
       "    .dataframe tbody tr th:only-of-type {\n",
       "        vertical-align: middle;\n",
       "    }\n",
       "\n",
       "    .dataframe tbody tr th {\n",
       "        vertical-align: top;\n",
       "    }\n",
       "\n",
       "    .dataframe thead th {\n",
       "        text-align: right;\n",
       "    }\n",
       "</style>\n",
       "<table border=\"1\" class=\"dataframe\">\n",
       "  <thead>\n",
       "    <tr style=\"text-align: right;\">\n",
       "      <th></th>\n",
       "      <th>x</th>\n",
       "      <th>y</th>\n",
       "      <th>hit_length</th>\n",
       "      <th>chem_fragment</th>\n",
       "      <th>x_pdb_fragment</th>\n",
       "      <th>y_pdb_fragment</th>\n",
       "    </tr>\n",
       "  </thead>\n",
       "  <tbody>\n",
       "    <tr>\n",
       "      <th>0</th>\n",
       "      <td>1e5mA01</td>\n",
       "      <td>1e8cA02</td>\n",
       "      <td>12</td>\n",
       "      <td>aaaaaahaaaaa</td>\n",
       "      <td>IGVLIGTGIGGL</td>\n",
       "      <td>LLLALATLLALG</td>\n",
       "    </tr>\n",
       "    <tr>\n",
       "      <th>1</th>\n",
       "      <td>1fp1D01</td>\n",
       "      <td>1jb0A00</td>\n",
       "      <td>12</td>\n",
       "      <td>maariaaamaaa</td>\n",
       "      <td>NLVYPAVLNAAI</td>\n",
       "      <td>QVVWPIVGQGIL</td>\n",
       "    </tr>\n",
       "    <tr>\n",
       "      <th>2</th>\n",
       "      <td>1l3aA00</td>\n",
       "      <td>1t3tA04</td>\n",
       "      <td>12</td>\n",
       "      <td>arbhaamhrbis</td>\n",
       "      <td>GWHTAVNSFKPE</td>\n",
       "      <td>VFRTVANSWHPE</td>\n",
       "    </tr>\n",
       "  </tbody>\n",
       "</table>\n",
       "</div>"
      ],
      "text/plain": [
       "         x        y  hit_length chem_fragment x_pdb_fragment y_pdb_fragment\n",
       "0  1e5mA01  1e8cA02          12  aaaaaahaaaaa   IGVLIGTGIGGL   LLLALATLLALG\n",
       "1  1fp1D01  1jb0A00          12  maariaaamaaa   NLVYPAVLNAAI   QVVWPIVGQGIL\n",
       "2  1l3aA00  1t3tA04          12  arbhaamhrbis   GWHTAVNSFKPE   VFRTVANSWHPE"
      ]
     },
     "execution_count": 13,
     "metadata": {},
     "output_type": "execute_result"
    }
   ],
   "source": [
    "chem.head(3)"
   ]
  },
  {
   "cell_type": "markdown",
   "metadata": {},
   "source": [
    "### M32K25"
   ]
  },
  {
   "cell_type": "markdown",
   "metadata": {},
   "source": [
    "The M32K25 is a Structural Alphabet (SA) derived by clustering all **four-residue fragments** of a high-resolution subset \n",
    "of the Protein Data Bank and extracting the high-density states as representative conformational states."
   ]
  },
  {
   "cell_type": "code",
   "execution_count": 14,
   "metadata": {},
   "outputs": [
    {
     "data": {
      "text/html": [
       "<div>\n",
       "<style scoped>\n",
       "    .dataframe tbody tr th:only-of-type {\n",
       "        vertical-align: middle;\n",
       "    }\n",
       "\n",
       "    .dataframe tbody tr th {\n",
       "        vertical-align: top;\n",
       "    }\n",
       "\n",
       "    .dataframe thead th {\n",
       "        text-align: right;\n",
       "    }\n",
       "</style>\n",
       "<table border=\"1\" class=\"dataframe\">\n",
       "  <thead>\n",
       "    <tr style=\"text-align: right;\">\n",
       "      <th></th>\n",
       "      <th>x</th>\n",
       "      <th>y</th>\n",
       "      <th>hit_length</th>\n",
       "      <th>m32k25_fragment</th>\n",
       "      <th>x_pdb_fragment</th>\n",
       "      <th>y_pdb_fragment</th>\n",
       "      <th>x_hit_start</th>\n",
       "      <th>x_hit_end</th>\n",
       "      <th>y_hit_start</th>\n",
       "      <th>y_hit_end</th>\n",
       "      <th>x_mk_seq</th>\n",
       "      <th>y_mk_seq</th>\n",
       "    </tr>\n",
       "  </thead>\n",
       "  <tbody>\n",
       "    <tr>\n",
       "      <th>0</th>\n",
       "      <td>1dc7A00</td>\n",
       "      <td>3qdlA00</td>\n",
       "      <td>16</td>\n",
       "      <td>UUUUUUUUUUPRIBGC</td>\n",
       "      <td>IRWVLERALAGAGLTCTTF</td>\n",
       "      <td>AVGQICMGVSLMGLDSCII</td>\n",
       "      <td>14</td>\n",
       "      <td>30</td>\n",
       "      <td>110</td>\n",
       "      <td>126</td>\n",
       "      <td>QNIBGDAQJRGVXVUUUUUUUUUUPRIBGCMMTLVUUUUUUTWNIG...</td>\n",
       "      <td>LNIKUUUUUUUUUTQHCLNGKLUTAIDKUUUUUUUUUUUURFEHXP...</td>\n",
       "    </tr>\n",
       "    <tr>\n",
       "      <th>1</th>\n",
       "      <td>1hh2P04</td>\n",
       "      <td>1ii5A01</td>\n",
       "      <td>15</td>\n",
       "      <td>UUUUUUUUWOQIDAD</td>\n",
       "      <td>GQNARLAAKLTGWKIDIK</td>\n",
       "      <td>LDVWRAVAESQKWNSEYV</td>\n",
       "      <td>45</td>\n",
       "      <td>60</td>\n",
       "      <td>26</td>\n",
       "      <td>41</td>\n",
       "      <td>LVUUUUUUUQVWIDLNIACLNLWXOQBGADEHKUUTWUUUDYXYQU...</td>\n",
       "      <td>QHFFFAADENHHXUNBCSYYERHUUUUUUUUUUUWOQIDADACDJN...</td>\n",
       "    </tr>\n",
       "    <tr>\n",
       "      <th>2</th>\n",
       "      <td>1oe8A01</td>\n",
       "      <td>3r3pB00</td>\n",
       "      <td>15</td>\n",
       "      <td>UUUUUUUUUOQDEIC</td>\n",
       "      <td>AESIRMTLVAAGVNYEDE</td>\n",
       "      <td>ERRVKEILDEMDIVYFTH</td>\n",
       "      <td>13</td>\n",
       "      <td>28</td>\n",
       "      <td>4</td>\n",
       "      <td>19</td>\n",
       "      <td>AACAEGWJWRYVTUUUUUUUUUOQDEICAACDKUUTUWUTUUTFXP...</td>\n",
       "      <td>IKUUUUUUUUUUUOQDEICXEIEXYRCBJNALFVYQEGAGEBHYBH...</td>\n",
       "    </tr>\n",
       "  </tbody>\n",
       "</table>\n",
       "</div>"
      ],
      "text/plain": [
       "         x        y  hit_length   m32k25_fragment       x_pdb_fragment  \\\n",
       "0  1dc7A00  3qdlA00          16  UUUUUUUUUUPRIBGC  IRWVLERALAGAGLTCTTF   \n",
       "1  1hh2P04  1ii5A01          15   UUUUUUUUWOQIDAD   GQNARLAAKLTGWKIDIK   \n",
       "2  1oe8A01  3r3pB00          15   UUUUUUUUUOQDEIC   AESIRMTLVAAGVNYEDE   \n",
       "\n",
       "        y_pdb_fragment  x_hit_start  x_hit_end  y_hit_start  y_hit_end  \\\n",
       "0  AVGQICMGVSLMGLDSCII           14         30          110        126   \n",
       "1   LDVWRAVAESQKWNSEYV           45         60           26         41   \n",
       "2   ERRVKEILDEMDIVYFTH           13         28            4         19   \n",
       "\n",
       "                                            x_mk_seq  \\\n",
       "0  QNIBGDAQJRGVXVUUUUUUUUUUPRIBGCMMTLVUUUUUUTWNIG...   \n",
       "1  LVUUUUUUUQVWIDLNIACLNLWXOQBGADEHKUUTWUUUDYXYQU...   \n",
       "2  AACAEGWJWRYVTUUUUUUUUUOQDEICAACDKUUTUWUTUUTFXP...   \n",
       "\n",
       "                                            y_mk_seq  \n",
       "0  LNIKUUUUUUUUUTQHCLNGKLUTAIDKUUUUUUUUUUUURFEHXP...  \n",
       "1  QHFFFAADENHHXUNBCSYYERHUUUUUUUUUUUWOQIDADACDJN...  \n",
       "2  IKUUUUUUUUUUUOQDEICXEIEXYRCBJNALFVYQEGAGEBHYBH...  "
      ]
     },
     "execution_count": 14,
     "metadata": {},
     "output_type": "execute_result"
    }
   ],
   "source": [
    "m32.head(3)"
   ]
  },
  {
   "cell_type": "code",
   "execution_count": 20,
   "metadata": {},
   "outputs": [
    {
     "data": {
      "text/html": [
       "<div>\n",
       "<style scoped>\n",
       "    .dataframe tbody tr th:only-of-type {\n",
       "        vertical-align: middle;\n",
       "    }\n",
       "\n",
       "    .dataframe tbody tr th {\n",
       "        vertical-align: top;\n",
       "    }\n",
       "\n",
       "    .dataframe thead th {\n",
       "        text-align: right;\n",
       "    }\n",
       "</style>\n",
       "<table border=\"1\" class=\"dataframe\">\n",
       "  <thead>\n",
       "    <tr style=\"text-align: right;\">\n",
       "      <th></th>\n",
       "      <th>x</th>\n",
       "      <th>y</th>\n",
       "      <th>hit_length</th>\n",
       "      <th>m32k25_fragment</th>\n",
       "      <th>x_pdb_fragment</th>\n",
       "      <th>y_pdb_fragment</th>\n",
       "      <th>x_hit_start</th>\n",
       "      <th>x_hit_end</th>\n",
       "      <th>y_hit_start</th>\n",
       "      <th>y_hit_end</th>\n",
       "      <th>x_mk_seq</th>\n",
       "      <th>y_mk_seq</th>\n",
       "    </tr>\n",
       "  </thead>\n",
       "  <tbody>\n",
       "    <tr>\n",
       "      <th>43</th>\n",
       "      <td>1ojwB01</td>\n",
       "      <td>1ojxE00</td>\n",
       "      <td>59</td>\n",
       "      <td>IYHHHAFXRGFJMOYQAWACHXQDADDDFFHXRBIFFXRHMTGGIE...</td>\n",
       "      <td>DCGLPPDVPNAQPALEGRTSFPEDTVITYKCEESFVKIPGEKDSVI...</td>\n",
       "      <td>NLTEKFLRIFARRGKSIILAYDHGIEHGPADFMDNPDSADPEYILR...</td>\n",
       "      <td>0</td>\n",
       "      <td>59</td>\n",
       "      <td>0</td>\n",
       "      <td>59</td>\n",
       "      <td>IYHHHAFXRGFJMOYQAWACHXQDADDDFFHXRBIFFXRHMTGGIE...</td>\n",
       "      <td>IYHHHAFXRGFJMOYQAWACHXQDADDDFFHXRBIFFXRHMTGGIE...</td>\n",
       "    </tr>\n",
       "  </tbody>\n",
       "</table>\n",
       "</div>"
      ],
      "text/plain": [
       "          x        y  hit_length  \\\n",
       "43  1ojwB01  1ojxE00          59   \n",
       "\n",
       "                                      m32k25_fragment  \\\n",
       "43  IYHHHAFXRGFJMOYQAWACHXQDADDDFFHXRBIFFXRHMTGGIE...   \n",
       "\n",
       "                                       x_pdb_fragment  \\\n",
       "43  DCGLPPDVPNAQPALEGRTSFPEDTVITYKCEESFVKIPGEKDSVI...   \n",
       "\n",
       "                                       y_pdb_fragment  x_hit_start  x_hit_end  \\\n",
       "43  NLTEKFLRIFARRGKSIILAYDHGIEHGPADFMDNPDSADPEYILR...            0         59   \n",
       "\n",
       "    y_hit_start  y_hit_end                                           x_mk_seq  \\\n",
       "43            0         59  IYHHHAFXRGFJMOYQAWACHXQDADDDFFHXRBIFFXRHMTGGIE...   \n",
       "\n",
       "                                             y_mk_seq  \n",
       "43  IYHHHAFXRGFJMOYQAWACHXQDADDDFFHXRBIFFXRHMTGGIE...  "
      ]
     },
     "execution_count": 20,
     "metadata": {},
     "output_type": "execute_result"
    }
   ],
   "source": [
    "m32[m32.x == \"1ojwB01\"]"
   ]
  },
  {
   "cell_type": "code",
   "execution_count": 23,
   "metadata": {},
   "outputs": [
    {
     "data": {
      "text/plain": [
       "'IYHHHAFXRGFJMOYQAWACHXQDADDDFFHXRBIFFXRHMTGGIEHXPQCHHEGHMRB'"
      ]
     },
     "execution_count": 23,
     "metadata": {},
     "output_type": "execute_result"
    }
   ],
   "source": [
    "m32.loc[43].x_mk_seq"
   ]
  },
  {
   "cell_type": "code",
   "execution_count": 24,
   "metadata": {},
   "outputs": [
    {
     "data": {
      "text/plain": [
       "'IYHHHAFXRGFJMOYQAWACHXQDADDDFFHXRBIFFXRHMTGGIEHXPQCHHEGHMRB'"
      ]
     },
     "execution_count": 24,
     "metadata": {},
     "output_type": "execute_result"
    }
   ],
   "source": [
    "m32.loc[43].y_mk_seq"
   ]
  },
  {
   "cell_type": "code",
   "execution_count": null,
   "metadata": {},
   "outputs": [],
   "source": [
    "m32k25 überprüfen\n",
    "tmalign, bei scores ranking\n",
    "nicht die gleichen sequenzen vergleichen, domains abschneiden "
   ]
  }
 ],
 "metadata": {
  "kernelspec": {
   "display_name": "Python 3",
   "language": "python",
   "name": "python3"
  },
  "language_info": {
   "codemirror_mode": {
    "name": "ipython",
    "version": 3
   },
   "file_extension": ".py",
   "mimetype": "text/x-python",
   "name": "python",
   "nbconvert_exporter": "python",
   "pygments_lexer": "ipython3",
   "version": "3.7.1"
  }
 },
 "nbformat": 4,
 "nbformat_minor": 2
}
