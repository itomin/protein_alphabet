{
 "cells": [
  {
   "cell_type": "code",
   "execution_count": 1,
   "metadata": {},
   "outputs": [],
   "source": [
    "from Bio.Seq import Seq\n",
    "from Bio import SeqIO\n",
    "\n",
    "def readPDB(path):\n",
    "    for record in SeqIO.parse(path, \"fasta\"):\n",
    "        pdb = \"\".join(list(record.seq))\n",
    "    return pdb"
   ]
  },
  {
   "cell_type": "code",
   "execution_count": 8,
   "metadata": {},
   "outputs": [],
   "source": [
    "import pandas as pd\n",
    "\n",
    "df = pd.read_csv(\"hit_aa_sample.csv\")\n",
    "df = df[df.hit_length >= 10]\n",
    "df.to_csv(\"aa_hits_filter.csv\", index=False)"
   ]
  },
  {
   "cell_type": "code",
   "execution_count": 3,
   "metadata": {},
   "outputs": [
    {
     "data": {
      "text/html": [
       "<div>\n",
       "<style scoped>\n",
       "    .dataframe tbody tr th:only-of-type {\n",
       "        vertical-align: middle;\n",
       "    }\n",
       "\n",
       "    .dataframe tbody tr th {\n",
       "        vertical-align: top;\n",
       "    }\n",
       "\n",
       "    .dataframe thead th {\n",
       "        text-align: right;\n",
       "    }\n",
       "</style>\n",
       "<table border=\"1\" class=\"dataframe\">\n",
       "  <thead>\n",
       "    <tr style=\"text-align: right;\">\n",
       "      <th></th>\n",
       "      <th>pdb</th>\n",
       "      <th>cath</th>\n",
       "      <th>range</th>\n",
       "    </tr>\n",
       "  </thead>\n",
       "  <tbody>\n",
       "    <tr>\n",
       "      <th>0</th>\n",
       "      <td>101mA00</td>\n",
       "      <td>1.10.490.10</td>\n",
       "      <td>0-153:A</td>\n",
       "    </tr>\n",
       "    <tr>\n",
       "      <th>1</th>\n",
       "      <td>102lA00</td>\n",
       "      <td>1.10.530.40</td>\n",
       "      <td>1-162:A</td>\n",
       "    </tr>\n",
       "    <tr>\n",
       "      <th>2</th>\n",
       "      <td>102mA00</td>\n",
       "      <td>1.10.490.10</td>\n",
       "      <td>0-153:A</td>\n",
       "    </tr>\n",
       "    <tr>\n",
       "      <th>3</th>\n",
       "      <td>103lA00</td>\n",
       "      <td>1.10.530.40</td>\n",
       "      <td>1-162:A</td>\n",
       "    </tr>\n",
       "    <tr>\n",
       "      <th>4</th>\n",
       "      <td>103mA00</td>\n",
       "      <td>1.10.490.10</td>\n",
       "      <td>0-153:A</td>\n",
       "    </tr>\n",
       "  </tbody>\n",
       "</table>\n",
       "</div>"
      ],
      "text/plain": [
       "       pdb         cath    range\n",
       "0  101mA00  1.10.490.10  0-153:A\n",
       "1  102lA00  1.10.530.40  1-162:A\n",
       "2  102mA00  1.10.490.10  0-153:A\n",
       "3  103lA00  1.10.530.40  1-162:A\n",
       "4  103mA00  1.10.490.10  0-153:A"
      ]
     },
     "execution_count": 3,
     "metadata": {},
     "output_type": "execute_result"
    }
   ],
   "source": [
    "cath_meta = pd.read_csv(\"data/cath-b-newest-all\", sep=\" \", names =[\"pdb\", \"version\", \"cath\", \"range\"])\n",
    "cath_meta = cath_meta[[\"pdb\", \"cath\", \"range\"]]\n",
    "cath_meta.head()"
   ]
  },
  {
   "cell_type": "code",
   "execution_count": 4,
   "metadata": {},
   "outputs": [
    {
     "data": {
      "text/html": [
       "<div>\n",
       "<style scoped>\n",
       "    .dataframe tbody tr th:only-of-type {\n",
       "        vertical-align: middle;\n",
       "    }\n",
       "\n",
       "    .dataframe tbody tr th {\n",
       "        vertical-align: top;\n",
       "    }\n",
       "\n",
       "    .dataframe thead th {\n",
       "        text-align: right;\n",
       "    }\n",
       "</style>\n",
       "<table border=\"1\" class=\"dataframe\">\n",
       "  <thead>\n",
       "    <tr style=\"text-align: right;\">\n",
       "      <th></th>\n",
       "      <th>x</th>\n",
       "      <th>y</th>\n",
       "      <th>hit_length</th>\n",
       "      <th>hit</th>\n",
       "      <th>X_ratio</th>\n",
       "      <th>cath_x</th>\n",
       "      <th>range_x</th>\n",
       "      <th>cath_y</th>\n",
       "      <th>range_y</th>\n",
       "    </tr>\n",
       "  </thead>\n",
       "  <tbody>\n",
       "    <tr>\n",
       "      <th>0</th>\n",
       "      <td>1bg5A03</td>\n",
       "      <td>2zxeA01</td>\n",
       "      <td>12</td>\n",
       "      <td>SFKNMVPQQALV</td>\n",
       "      <td>0.0</td>\n",
       "      <td>4.10.6.10</td>\n",
       "      <td>214-254:A</td>\n",
       "      <td>2.70.150.10</td>\n",
       "      <td>32-77:A,157-276:A</td>\n",
       "    </tr>\n",
       "    <tr>\n",
       "      <th>1</th>\n",
       "      <td>1fp0A00</td>\n",
       "      <td>2if1A00</td>\n",
       "      <td>10</td>\n",
       "      <td>MRGSHHHHHH</td>\n",
       "      <td>0.0</td>\n",
       "      <td>3.30.40.10</td>\n",
       "      <td>1-88:A</td>\n",
       "      <td>3.30.780.10</td>\n",
       "      <td>1-126:A</td>\n",
       "    </tr>\n",
       "    <tr>\n",
       "      <th>2</th>\n",
       "      <td>1fp0A00</td>\n",
       "      <td>2lfvA00</td>\n",
       "      <td>12</td>\n",
       "      <td>MRGSHHHHHHGS</td>\n",
       "      <td>0.0</td>\n",
       "      <td>3.30.40.10</td>\n",
       "      <td>1-88:A</td>\n",
       "      <td>3.30.70.1070</td>\n",
       "      <td>323-428:A</td>\n",
       "    </tr>\n",
       "    <tr>\n",
       "      <th>3</th>\n",
       "      <td>1m6nA05</td>\n",
       "      <td>1tf5A04</td>\n",
       "      <td>85</td>\n",
       "      <td>ENLREIVENMIKSSLERAIAAYTPREELPEEWKLDGLVDLINTTYL...</td>\n",
       "      <td>0.0</td>\n",
       "      <td>1.10.1200.230</td>\n",
       "      <td>621-705:A</td>\n",
       "      <td>1.10.3060.10</td>\n",
       "      <td>599-780:A</td>\n",
       "    </tr>\n",
       "    <tr>\n",
       "      <th>4</th>\n",
       "      <td>1wgsA00</td>\n",
       "      <td>2ctfA00</td>\n",
       "      <td>10</td>\n",
       "      <td>GSSGSSGEPE</td>\n",
       "      <td>0.0</td>\n",
       "      <td>2.30.30.140</td>\n",
       "      <td>1-133:A</td>\n",
       "      <td>3.30.1370.10</td>\n",
       "      <td>1-102:A</td>\n",
       "    </tr>\n",
       "    <tr>\n",
       "      <th>5</th>\n",
       "      <td>1wgxA00</td>\n",
       "      <td>2rqrA00</td>\n",
       "      <td>10</td>\n",
       "      <td>GSSGSSGDKE</td>\n",
       "      <td>0.0</td>\n",
       "      <td>1.10.10.60</td>\n",
       "      <td>1-73:A</td>\n",
       "      <td>2.30.30.40</td>\n",
       "      <td>1-119:A</td>\n",
       "    </tr>\n",
       "    <tr>\n",
       "      <th>6</th>\n",
       "      <td>1bgpA02</td>\n",
       "      <td>2d27A01</td>\n",
       "      <td>10</td>\n",
       "      <td>LLALLGRLGL</td>\n",
       "      <td>0.0</td>\n",
       "      <td>1.10.420.10</td>\n",
       "      <td>149-284:A</td>\n",
       "      <td>1.10.40.70</td>\n",
       "      <td>2-63:A</td>\n",
       "    </tr>\n",
       "    <tr>\n",
       "      <th>7</th>\n",
       "      <td>1bgwA02</td>\n",
       "      <td>1bjtA01</td>\n",
       "      <td>13</td>\n",
       "      <td>LGTSLAQEVREYF</td>\n",
       "      <td>0.0</td>\n",
       "      <td>3.40.50.670</td>\n",
       "      <td>420-562:A,606-633:A</td>\n",
       "      <td>3.30.1490.30</td>\n",
       "      <td>575-617:A</td>\n",
       "    </tr>\n",
       "    <tr>\n",
       "      <th>8</th>\n",
       "      <td>1cf9A01</td>\n",
       "      <td>1ye9A02</td>\n",
       "      <td>43</td>\n",
       "      <td>IVHARGSAAHGYFQPYKSLSDITKADFLSDPNKITPVFVRFST</td>\n",
       "      <td>0.0</td>\n",
       "      <td>2.40.180.10</td>\n",
       "      <td>51-436:A</td>\n",
       "      <td>2.40.470.10</td>\n",
       "      <td>126-205:A,263-294:A</td>\n",
       "    </tr>\n",
       "    <tr>\n",
       "      <th>9</th>\n",
       "      <td>1cf9A01</td>\n",
       "      <td>1ye9A03</td>\n",
       "      <td>57</td>\n",
       "      <td>FFIQDAHKFPDFVHAVKPEPHWAIPQGQSAHDTFWDYVSLQPETLH...</td>\n",
       "      <td>0.0</td>\n",
       "      <td>2.40.180.10</td>\n",
       "      <td>51-436:A</td>\n",
       "      <td>1.10.10.1060</td>\n",
       "      <td>206-262:A</td>\n",
       "    </tr>\n",
       "  </tbody>\n",
       "</table>\n",
       "</div>"
      ],
      "text/plain": [
       "         x        y  hit_length  \\\n",
       "0  1bg5A03  2zxeA01          12   \n",
       "1  1fp0A00  2if1A00          10   \n",
       "2  1fp0A00  2lfvA00          12   \n",
       "3  1m6nA05  1tf5A04          85   \n",
       "4  1wgsA00  2ctfA00          10   \n",
       "5  1wgxA00  2rqrA00          10   \n",
       "6  1bgpA02  2d27A01          10   \n",
       "7  1bgwA02  1bjtA01          13   \n",
       "8  1cf9A01  1ye9A02          43   \n",
       "9  1cf9A01  1ye9A03          57   \n",
       "\n",
       "                                                 hit  X_ratio         cath_x  \\\n",
       "0                                       SFKNMVPQQALV      0.0      4.10.6.10   \n",
       "1                                         MRGSHHHHHH      0.0     3.30.40.10   \n",
       "2                                       MRGSHHHHHHGS      0.0     3.30.40.10   \n",
       "3  ENLREIVENMIKSSLERAIAAYTPREELPEEWKLDGLVDLINTTYL...      0.0  1.10.1200.230   \n",
       "4                                         GSSGSSGEPE      0.0    2.30.30.140   \n",
       "5                                         GSSGSSGDKE      0.0     1.10.10.60   \n",
       "6                                         LLALLGRLGL      0.0    1.10.420.10   \n",
       "7                                      LGTSLAQEVREYF      0.0    3.40.50.670   \n",
       "8        IVHARGSAAHGYFQPYKSLSDITKADFLSDPNKITPVFVRFST      0.0    2.40.180.10   \n",
       "9  FFIQDAHKFPDFVHAVKPEPHWAIPQGQSAHDTFWDYVSLQPETLH...      0.0    2.40.180.10   \n",
       "\n",
       "               range_x        cath_y              range_y  \n",
       "0            214-254:A   2.70.150.10    32-77:A,157-276:A  \n",
       "1               1-88:A   3.30.780.10              1-126:A  \n",
       "2               1-88:A  3.30.70.1070            323-428:A  \n",
       "3            621-705:A  1.10.3060.10            599-780:A  \n",
       "4              1-133:A  3.30.1370.10              1-102:A  \n",
       "5               1-73:A    2.30.30.40              1-119:A  \n",
       "6            149-284:A    1.10.40.70               2-63:A  \n",
       "7  420-562:A,606-633:A  3.30.1490.30            575-617:A  \n",
       "8             51-436:A   2.40.470.10  126-205:A,263-294:A  \n",
       "9             51-436:A  1.10.10.1060            206-262:A  "
      ]
     },
     "execution_count": 4,
     "metadata": {},
     "output_type": "execute_result"
    }
   ],
   "source": [
    "df = pd.merge(df, cath_meta, how=\"left\", left_on=\"x\", right_on=\"pdb\").drop(columns=\"pdb\")#.rename(columns={\"cath\":\"cath_x\"})\n",
    "df = pd.merge(df, cath_meta, how=\"left\", left_on=\"y\", right_on=\"pdb\").drop(columns=\"pdb\")#.rename(columns={\"cath\":\"cath_y\"})\n",
    "df.head(10)"
   ]
  },
  {
   "cell_type": "markdown",
   "metadata": {},
   "source": [
    "## 1y10B02 - 3u9rB01"
   ]
  },
  {
   "cell_type": "code",
   "execution_count": 45,
   "metadata": {},
   "outputs": [
    {
     "name": "stdout",
     "output_type": "stream",
     "text": [
      "1y10B02: \n",
      "METEAVNAGERAAGKPLPGARQVTVAFADLVGFTQLGEVVSAEELGHLAGRLAGLARDLTAPPVWFIKTIGDAVMLVCPDPAPLLDTVLKLVEVVDTDNNFPRLRAGVASGMAVSRAGDWFGSPVNVASRVTGVARPGAVLVADSVREALGDAPEADGFQWSFAGPRRLRGIRGDVRLFRVRR\n",
      "\n",
      " 3u9rB01: \n",
      "HMAILHTQINPRSAEFAANAATMLEQVNALRTLLGRIHEGGGSAAQARHSARGKLLVRERINRLLDPGSPFLELSALAAHEVYGEEVAAAGIVAGIGRVEGVECMIVGNDATVKGGTYYPLTVKKHLRAQAIALENRLPCIYLVDSGGANLPRQDEVFPDREHFGRIFFNQANMSARGIPQIAVVMGSCTAGGAYVPAMSDETVMVREQATIFLAGPPLVKAATGEVVSAEELGGADVHCKVSGVADHYAEDDDHALAIARRCVANLNWRKQG\n",
      "\n",
      " Hit:\n",
      "GEVVSAEELG\n"
     ]
    }
   ],
   "source": [
    "I = 213\n",
    "\n",
    "df.loc[[I]]\n",
    "\n",
    "print(\"%s: \" % df.loc[I].x)\n",
    "print(readPDB(\"../data/pdb_str/fasta/%s.fasta\" %  df.loc[I].x))\n",
    "\n",
    "print(\"\\n %s: \" % df.loc[I].y)\n",
    "print(readPDB(\"../data/pdb_str/fasta/%s.fasta\" %  df.loc[I].y))\n",
    "\n",
    "print(\"\\n Hit:\")\n",
    "print(df.loc[I].hit)"
   ]
  },
  {
   "cell_type": "markdown",
   "metadata": {},
   "source": [
    "## 1cf9_A_1ye9_A  (A02)"
   ]
  },
  {
   "cell_type": "code",
   "execution_count": 46,
   "metadata": {},
   "outputs": [
    {
     "name": "stdout",
     "output_type": "stream",
     "text": [
      "1cf9A01: \n",
      "APGSLKAPDTRNEKLNSLEDVRKGSENYALTTNQGVRIADDQNSLRAGSRGPTLLEDFILREKITHFDHERIPERIVHARGSAAHGYFQPYKSLSDITKADFLSDPNKITPVFVRFSTCQGGAGSADTVRDIRGFATKFYTEEGIFDLVGNNTPIFFIQDAHKFPDFVHAVKPEPHWAIPQGQSAHDTFWDYVSLQPETLHNVMWAMSDRGIPRSYRTMEGFGIHTFRLINAEGKATFVRFHWKPLAGKASLVWDEAQKLTGRDPDFHRRELWEAIEAGDFPEYELGFQLIPEEDEFKFDFDLLDPTKLIPEELVPVQRVGKMVLNRNPDNFFAENEQAAFHPGHIVPGLDFTNDPLLQGRLFSYTDTQISRLGGPNFHEIPINRP\n",
      "\n",
      " 1ye9A02: \n",
      "IVHARGSAAHGYFQPYKSLSDITKADFLSDPNKITPVFVRFSTVQGGAGSADTVRDIRGFATKFYTEEGIFDLVGNNTPIPRSYRTMEGFGIHTFRLINAEGKATFVRFHWK\n",
      "\n",
      " Hit:\n",
      "IVHARGSAAHGYFQPYKSLSDITKADFLSDPNKITPVFVRFST\n"
     ]
    }
   ],
   "source": [
    "I = 8\n",
    "df.loc[[I]]\n",
    "\n",
    "print(\"%s: \" % df.loc[I].x)\n",
    "print(readPDB(\"../data/pdb_str/fasta/%s.fasta\" %  df.loc[I].x))\n",
    "\n",
    "print(\"\\n %s: \" % df.loc[I].y)\n",
    "print(readPDB(\"../data/pdb_str/fasta/%s.fasta\" %  df.loc[I].y))\n",
    "\n",
    "print(\"\\n Hit:\")\n",
    "print(df.loc[I].hit)"
   ]
  },
  {
   "cell_type": "markdown",
   "metadata": {},
   "source": [
    "## 1cf9_A_1ye9_A   (A03)"
   ]
  },
  {
   "cell_type": "code",
   "execution_count": 47,
   "metadata": {},
   "outputs": [
    {
     "name": "stdout",
     "output_type": "stream",
     "text": [
      "1cf9A01: \n",
      "APGSLKAPDTRNEKLNSLEDVRKGSENYALTTNQGVRIADDQNSLRAGSRGPTLLEDFILREKITHFDHERIPERIVHARGSAAHGYFQPYKSLSDITKADFLSDPNKITPVFVRFSTCQGGAGSADTVRDIRGFATKFYTEEGIFDLVGNNTPIFFIQDAHKFPDFVHAVKPEPHWAIPQGQSAHDTFWDYVSLQPETLHNVMWAMSDRGIPRSYRTMEGFGIHTFRLINAEGKATFVRFHWKPLAGKASLVWDEAQKLTGRDPDFHRRELWEAIEAGDFPEYELGFQLIPEEDEFKFDFDLLDPTKLIPEELVPVQRVGKMVLNRNPDNFFAENEQAAFHPGHIVPGLDFTNDPLLQGRLFSYTDTQISRLGGPNFHEIPINRP\n",
      "\n",
      " 1ye9A03: \n",
      "FFIQDAHKFPDFVHAVKPEPHWAIPQGQSAHDTFWDYVSLQPETLHNVMWAMSDRGI\n",
      "\n",
      " Hit:\n",
      "FFIQDAHKFPDFVHAVKPEPHWAIPQGQSAHDTFWDYVSLQPETLHNVMWAMSDRGI\n"
     ]
    }
   ],
   "source": [
    "I = 9\n",
    "df.loc[[I]]\n",
    "\n",
    "print(\"%s: \" % df.loc[I].x)\n",
    "print(readPDB(\"../data/pdb_str/fasta/%s.fasta\" %  df.loc[I].x))\n",
    "\n",
    "print(\"\\n %s: \" % df.loc[I].y)\n",
    "print(readPDB(\"../data/pdb_str/fasta/%s.fasta\" %  df.loc[I].y))\n",
    "\n",
    "print(\"\\n Hit:\")\n",
    "print(df.loc[I].hit)"
   ]
  },
  {
   "cell_type": "code",
   "execution_count": 53,
   "metadata": {},
   "outputs": [
    {
     "name": "stdout",
     "output_type": "stream",
     "text": [
      "1ihgA02: \n",
      "LISEDLKNIGNTFFKSQNWEMAIKKYTKVLRYVEGSRAAAEDADGAKLQPVALSCVLNIGACKLKMSDWQGAVDSCLEALEIDPSNTKALYRRAQGWQGLKEYDQALADLKKAQEIAPEDKAIQAELLKVKQKIKAQKDKEKAAY\n",
      "\n",
      " 1iipA02: \n",
      "KDVDKILLISEDLKNIGNTFFKSQNWEMAIKKYTKVLRYVEGSRAAAEDADGAKLQPVALSCVLNIGACKLKMSDWQGAVDSCLE\n",
      "\n",
      " Hit:\n",
      "LISEDLKNIGNTFFKSQNWEMAIKKYTKVLRYVEGSRAAAEDADGAKLQPVALSCVLNIGACKLKMSDWQGAVDSCLE\n"
     ]
    }
   ],
   "source": [
    "I = 290153\n",
    "df.loc[[I]]\n",
    "\n",
    "print(\"%s: \" % df.loc[I].x)\n",
    "print(readPDB(\"../data/pdb_str/fasta/%s.fasta\" %  df.loc[I].x))\n",
    "\n",
    "print(\"\\n %s: \" % df.loc[I].y)\n",
    "print(readPDB(\"../data/pdb_str/fasta/%s.fasta\" %  df.loc[I].y))\n",
    "\n",
    "print(\"\\n Hit:\")\n",
    "print(df.loc[I].hit)"
   ]
  },
  {
   "cell_type": "code",
   "execution_count": null,
   "metadata": {},
   "outputs": [],
   "source": []
  }
 ],
 "metadata": {
  "kernelspec": {
   "display_name": "Python 3",
   "language": "python",
   "name": "python3"
  },
  "language_info": {
   "codemirror_mode": {
    "name": "ipython",
    "version": 3
   },
   "file_extension": ".py",
   "mimetype": "text/x-python",
   "name": "python",
   "nbconvert_exporter": "python",
   "pygments_lexer": "ipython3",
   "version": "3.7.1"
  }
 },
 "nbformat": 4,
 "nbformat_minor": 2
}
