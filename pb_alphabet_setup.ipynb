{
 "cells": [
  {
   "cell_type": "code",
   "execution_count": 22,
   "metadata": {},
   "outputs": [],
   "source": [
    "import pandas as pd\n",
    "from Bio import SeqIO\n",
    "import os\n",
    "from os import listdir\n",
    "from os.path import isfile, join\n",
    "from Bio.SeqRecord import SeqRecord\n",
    "from Bio.Seq import Seq\n",
    "from Bio.PDB import *"
   ]
  },
  {
   "cell_type": "code",
   "execution_count": null,
   "metadata": {},
   "outputs": [],
   "source": [
    "# TODO BUG\n",
    "# Die Atom Files haben als Namen folgendes Format 12asA\n",
    "# In CathDB unterscheide ich allerdings 12asA01, 12asA02..."
   ]
  },
  {
   "cell_type": "code",
   "execution_count": 9,
   "metadata": {},
   "outputs": [],
   "source": [
    "pb_source_dir = \"../data/pdb_str/pb_orig/\"\n",
    "pb_target_dir = \"../data/pdb_str/pb_aa/\"\n",
    "pb_dirs = [ \"\".join([pb_source_dir, f]) for f in listdir(pb_source_dir)]\n",
    "# pb_dirs = [ \"%s/_%s.pbseq\" % (p, p.split(\"/\")[-1].split(\".\")[0] )for p in pb_dirs ] \n",
    "pb_dirs = [ \"%s/_%s.aaseq\" % (p, p.split(\"/\")[-1].split(\".\")[0] )for p in pb_dirs ] \n",
    "# pb_dirs = pb_dirs[0:2]"
   ]
  },
  {
   "cell_type": "code",
   "execution_count": 23,
   "metadata": {},
   "outputs": [],
   "source": [
    "pdb_dir = \"../data/pdb_str/pdb/\"\n",
    "pdb_dirs = [ f.split(\".\")[0] for f in listdir(pdb_dir)]\n",
    "pdb_dirs = pdb_dirs[0:10]"
   ]
  },
  {
   "cell_type": "code",
   "execution_count": 26,
   "metadata": {
    "scrolled": true
   },
   "outputs": [
    {
     "name": "stderr",
     "output_type": "stream",
     "text": [
      "C:\\Users\\tomin\\AppData\\Local\\Continuum\\anaconda3\\lib\\site-packages\\biopython-1.73-py3.7-win-amd64.egg\\Bio\\PDB\\StructureBuilder.py:91: PDBConstructionWarning: WARNING: Chain A is discontinuous at line 5676.\n",
      "  PDBConstructionWarning)\n",
      "C:\\Users\\tomin\\AppData\\Local\\Continuum\\anaconda3\\lib\\site-packages\\biopython-1.73-py3.7-win-amd64.egg\\Bio\\PDB\\StructureBuilder.py:91: PDBConstructionWarning: WARNING: Chain B is discontinuous at line 5708.\n",
      "  PDBConstructionWarning)\n",
      "C:\\Users\\tomin\\AppData\\Local\\Continuum\\anaconda3\\lib\\site-packages\\biopython-1.73-py3.7-win-amd64.egg\\Bio\\PDB\\StructureBuilder.py:91: PDBConstructionWarning: WARNING: Chain A is discontinuous at line 5740.\n",
      "  PDBConstructionWarning)\n",
      "C:\\Users\\tomin\\AppData\\Local\\Continuum\\anaconda3\\lib\\site-packages\\biopython-1.73-py3.7-win-amd64.egg\\Bio\\PDB\\StructureBuilder.py:91: PDBConstructionWarning: WARNING: Chain B is discontinuous at line 5842.\n",
      "  PDBConstructionWarning)\n",
      "C:\\Users\\tomin\\AppData\\Local\\Continuum\\anaconda3\\lib\\site-packages\\biopython-1.73-py3.7-win-amd64.egg\\Bio\\PDB\\StructureBuilder.py:91: PDBConstructionWarning: WARNING: Chain A is discontinuous at line 3686.\n",
      "  PDBConstructionWarning)\n",
      "C:\\Users\\tomin\\AppData\\Local\\Continuum\\anaconda3\\lib\\site-packages\\biopython-1.73-py3.7-win-amd64.egg\\Bio\\PDB\\StructureBuilder.py:91: PDBConstructionWarning: WARNING: Chain B is discontinuous at line 3736.\n",
      "  PDBConstructionWarning)\n",
      "C:\\Users\\tomin\\AppData\\Local\\Continuum\\anaconda3\\lib\\site-packages\\biopython-1.73-py3.7-win-amd64.egg\\Bio\\PDB\\StructureBuilder.py:91: PDBConstructionWarning: WARNING: Chain A is discontinuous at line 3774.\n",
      "  PDBConstructionWarning)\n",
      "C:\\Users\\tomin\\AppData\\Local\\Continuum\\anaconda3\\lib\\site-packages\\biopython-1.73-py3.7-win-amd64.egg\\Bio\\PDB\\StructureBuilder.py:91: PDBConstructionWarning: WARNING: Chain B is discontinuous at line 3878.\n",
      "  PDBConstructionWarning)\n",
      "C:\\Users\\tomin\\AppData\\Local\\Continuum\\anaconda3\\lib\\site-packages\\biopython-1.73-py3.7-win-amd64.egg\\Bio\\PDB\\StructureBuilder.py:91: PDBConstructionWarning: WARNING: Chain A is discontinuous at line 9649.\n",
      "  PDBConstructionWarning)\n",
      "C:\\Users\\tomin\\AppData\\Local\\Continuum\\anaconda3\\lib\\site-packages\\biopython-1.73-py3.7-win-amd64.egg\\Bio\\PDB\\StructureBuilder.py:91: PDBConstructionWarning: WARNING: Chain B is discontinuous at line 10447.\n",
      "  PDBConstructionWarning)\n",
      "C:\\Users\\tomin\\AppData\\Local\\Continuum\\anaconda3\\lib\\site-packages\\biopython-1.73-py3.7-win-amd64.egg\\Bio\\PDB\\StructureBuilder.py:91: PDBConstructionWarning: WARNING: Chain A is discontinuous at line 11237.\n",
      "  PDBConstructionWarning)\n",
      "C:\\Users\\tomin\\AppData\\Local\\Continuum\\anaconda3\\lib\\site-packages\\biopython-1.73-py3.7-win-amd64.egg\\Bio\\PDB\\StructureBuilder.py:91: PDBConstructionWarning: WARNING: Chain B is discontinuous at line 12187.\n",
      "  PDBConstructionWarning)\n",
      "C:\\Users\\tomin\\AppData\\Local\\Continuum\\anaconda3\\lib\\site-packages\\biopython-1.73-py3.7-win-amd64.egg\\Bio\\PDB\\StructureBuilder.py:91: PDBConstructionWarning: WARNING: Chain A is discontinuous at line 4867.\n",
      "  PDBConstructionWarning)\n",
      "C:\\Users\\tomin\\AppData\\Local\\Continuum\\anaconda3\\lib\\site-packages\\biopython-1.73-py3.7-win-amd64.egg\\Bio\\PDB\\StructureBuilder.py:91: PDBConstructionWarning: WARNING: Chain B is discontinuous at line 4910.\n",
      "  PDBConstructionWarning)\n",
      "C:\\Users\\tomin\\AppData\\Local\\Continuum\\anaconda3\\lib\\site-packages\\biopython-1.73-py3.7-win-amd64.egg\\Bio\\PDB\\StructureBuilder.py:91: PDBConstructionWarning: WARNING: Chain C is discontinuous at line 4953.\n",
      "  PDBConstructionWarning)\n",
      "C:\\Users\\tomin\\AppData\\Local\\Continuum\\anaconda3\\lib\\site-packages\\biopython-1.73-py3.7-win-amd64.egg\\Bio\\PDB\\StructureBuilder.py:91: PDBConstructionWarning: WARNING: Chain D is discontinuous at line 4996.\n",
      "  PDBConstructionWarning)\n",
      "C:\\Users\\tomin\\AppData\\Local\\Continuum\\anaconda3\\lib\\site-packages\\biopython-1.73-py3.7-win-amd64.egg\\Bio\\PDB\\StructureBuilder.py:91: PDBConstructionWarning: WARNING: Chain A is discontinuous at line 5039.\n",
      "  PDBConstructionWarning)\n",
      "C:\\Users\\tomin\\AppData\\Local\\Continuum\\anaconda3\\lib\\site-packages\\biopython-1.73-py3.7-win-amd64.egg\\Bio\\PDB\\StructureBuilder.py:91: PDBConstructionWarning: WARNING: Chain B is discontinuous at line 5091.\n",
      "  PDBConstructionWarning)\n",
      "C:\\Users\\tomin\\AppData\\Local\\Continuum\\anaconda3\\lib\\site-packages\\biopython-1.73-py3.7-win-amd64.egg\\Bio\\PDB\\StructureBuilder.py:91: PDBConstructionWarning: WARNING: Chain C is discontinuous at line 5143.\n",
      "  PDBConstructionWarning)\n",
      "C:\\Users\\tomin\\AppData\\Local\\Continuum\\anaconda3\\lib\\site-packages\\biopython-1.73-py3.7-win-amd64.egg\\Bio\\PDB\\StructureBuilder.py:91: PDBConstructionWarning: WARNING: Chain D is discontinuous at line 5209.\n",
      "  PDBConstructionWarning)\n"
     ]
    },
    {
     "data": {
      "text/html": [
       "<div>\n",
       "<style scoped>\n",
       "    .dataframe tbody tr th:only-of-type {\n",
       "        vertical-align: middle;\n",
       "    }\n",
       "\n",
       "    .dataframe tbody tr th {\n",
       "        vertical-align: top;\n",
       "    }\n",
       "\n",
       "    .dataframe thead th {\n",
       "        text-align: right;\n",
       "    }\n",
       "</style>\n",
       "<table border=\"1\" class=\"dataframe\">\n",
       "  <thead>\n",
       "    <tr style=\"text-align: right;\">\n",
       "      <th></th>\n",
       "      <th>pdbid</th>\n",
       "      <th>starts</th>\n",
       "      <th>ends</th>\n",
       "    </tr>\n",
       "  </thead>\n",
       "  <tbody>\n",
       "    <tr>\n",
       "      <th>0</th>\n",
       "      <td>12asA</td>\n",
       "      <td>4</td>\n",
       "      <td>434</td>\n",
       "    </tr>\n",
       "    <tr>\n",
       "      <th>1</th>\n",
       "      <td>12asB</td>\n",
       "      <td>4</td>\n",
       "      <td>433</td>\n",
       "    </tr>\n",
       "    <tr>\n",
       "      <th>2</th>\n",
       "      <td>132lA</td>\n",
       "      <td>1</td>\n",
       "      <td>208</td>\n",
       "    </tr>\n",
       "    <tr>\n",
       "      <th>3</th>\n",
       "      <td>153lA</td>\n",
       "      <td>1</td>\n",
       "      <td>454</td>\n",
       "    </tr>\n",
       "    <tr>\n",
       "      <th>4</th>\n",
       "      <td>155cA</td>\n",
       "      <td>0</td>\n",
       "      <td>135</td>\n",
       "    </tr>\n",
       "    <tr>\n",
       "      <th>5</th>\n",
       "      <td>16pkA</td>\n",
       "      <td>5</td>\n",
       "      <td>1079</td>\n",
       "    </tr>\n",
       "    <tr>\n",
       "      <th>6</th>\n",
       "      <td>16vpA</td>\n",
       "      <td>47</td>\n",
       "      <td>584</td>\n",
       "    </tr>\n",
       "    <tr>\n",
       "      <th>7</th>\n",
       "      <td>17gsA</td>\n",
       "      <td>0</td>\n",
       "      <td>316</td>\n",
       "    </tr>\n",
       "    <tr>\n",
       "      <th>8</th>\n",
       "      <td>17gsB</td>\n",
       "      <td>2</td>\n",
       "      <td>316</td>\n",
       "    </tr>\n",
       "    <tr>\n",
       "      <th>9</th>\n",
       "      <td>1914A</td>\n",
       "      <td>2001</td>\n",
       "      <td>9016</td>\n",
       "    </tr>\n",
       "    <tr>\n",
       "      <th>10</th>\n",
       "      <td>19hcA</td>\n",
       "      <td>1</td>\n",
       "      <td>784</td>\n",
       "    </tr>\n",
       "    <tr>\n",
       "      <th>11</th>\n",
       "      <td>19hcB</td>\n",
       "      <td>1</td>\n",
       "      <td>719</td>\n",
       "    </tr>\n",
       "    <tr>\n",
       "      <th>12</th>\n",
       "      <td>1a00A</td>\n",
       "      <td>1</td>\n",
       "      <td>465</td>\n",
       "    </tr>\n",
       "    <tr>\n",
       "      <th>13</th>\n",
       "      <td>1a00B</td>\n",
       "      <td>1</td>\n",
       "      <td>458</td>\n",
       "    </tr>\n",
       "    <tr>\n",
       "      <th>14</th>\n",
       "      <td>1a00C</td>\n",
       "      <td>1</td>\n",
       "      <td>473</td>\n",
       "    </tr>\n",
       "    <tr>\n",
       "      <th>15</th>\n",
       "      <td>1a00D</td>\n",
       "      <td>1</td>\n",
       "      <td>466</td>\n",
       "    </tr>\n",
       "  </tbody>\n",
       "</table>\n",
       "</div>"
      ],
      "text/plain": [
       "    pdbid  starts  ends\n",
       "0   12asA       4   434\n",
       "1   12asB       4   433\n",
       "2   132lA       1   208\n",
       "3   153lA       1   454\n",
       "4   155cA       0   135\n",
       "5   16pkA       5  1079\n",
       "6   16vpA      47   584\n",
       "7   17gsA       0   316\n",
       "8   17gsB       2   316\n",
       "9   1914A    2001  9016\n",
       "10  19hcA       1   784\n",
       "11  19hcB       1   719\n",
       "12  1a00A       1   465\n",
       "13  1a00B       1   458\n",
       "14  1a00C       1   473\n",
       "15  1a00D       1   466"
      ]
     },
     "execution_count": 26,
     "metadata": {},
     "output_type": "execute_result"
    }
   ],
   "source": [
    "parser = PDBParser(PERMISSIVE=0)\n",
    "pdb = []\n",
    "start = []\n",
    "end = []\n",
    "\n",
    "for pdbid in pdb_dirs:\n",
    "    structure = parser.get_structure(pdbid, \"../data/pdb_str/pdb/%s.ent\" % pdbid)\n",
    "    for model in structure :\n",
    "        for chain in model :\n",
    "            pdb = pdb + [(\"%s%s\" % (pdbid, chain.id))]\n",
    "            resseq = [res.get_id()[1] for res in chain]\n",
    "            start = start + [resseq[0]]\n",
    "            end = end + [resseq[-1]]\n",
    "\n",
    "pd.DataFrame({\"pdbid\": pdb, \"starts\":start, \"ends\":end})\n"
   ]
  },
  {
   "cell_type": "code",
   "execution_count": 10,
   "metadata": {},
   "outputs": [],
   "source": [
    "for pbd in pb_dirs:    \n",
    "    if not os.path.isfile(pbd):\n",
    "        id_failed = pbd.split(\"/\")[-1].split(\".\")[0]\n",
    "        with open(\"%s%s_FAILED\" % (pb_target_dir, id_failed), \"w\") as o:\n",
    "            o.write('')\n",
    "    else:\n",
    "        for record in SeqIO.parse(pbd, \"fasta\"):\n",
    "            seq = record.seq\n",
    "            pdb = record.id.replace(\"_#\", \"\")\n",
    "            rec  = SeqRecord(seq, id=pdb, description=\"\")\n",
    "            fname = \"%s%s.fasta\" % (pb_target_dir, pdb)\n",
    "\n",
    "            if not os.path.isfile(fname):\n",
    "                with open(fname, \"w\") as o:\n",
    "                    SeqIO.write(rec, o, \"fasta\")"
   ]
  },
  {
   "cell_type": "code",
   "execution_count": null,
   "metadata": {},
   "outputs": [],
   "source": [
    "for pbd in pb_dirs:    \n",
    "    if not os.path.isfile(pbd):\n",
    "        id_failed = pbd.split(\"/\")[-1].split(\".\")[0]\n",
    "        with open(\"%s%s_FAILED\" % (pb_target_dir, id_failed), \"w\") as o:\n",
    "            o.write('')\n",
    "    else:\n",
    "        for record in SeqIO.parse(pbd, \"fasta\"):\n",
    "            seq = record.seq\n",
    "            pdb = record.id.replace(\"_#\", \"\")\n",
    "            rec  = SeqRecord(seq, id=pdb, description=\"\")\n",
    "            fname = \"%s/%s.fasta\" % (pb_target_dir, pdb)\n",
    "\n",
    "            if not os.path.isfile(fname):\n",
    "                with open(fname, \"w\") as o:\n",
    "                    SeqIO.write(rec, o, \"fasta\")"
   ]
  },
  {
   "cell_type": "code",
   "execution_count": 35,
   "metadata": {},
   "outputs": [],
   "source": [
    "for pbd in pb_dirs:    \n",
    "    if not os.path.isfile(pbd):\n",
    "        id_failed = pbd.split(\"/\")[-1].split(\".\")[0]\n",
    "        with open(\"%s%s_FAILED\" % (pb_target_dir, id_failed), \"w\") as o:\n",
    "            o.write('')\n",
    "    else:\n",
    "        for record in SeqIO.parse(pbd, \"fasta\"):\n",
    "            seq = record.seq\n",
    "            pdb = record.id.replace(\"_#\", \"\")\n",
    "            rec  = SeqRecord(seq, id=pdb, description=\"\")\n",
    "            fname = \"%s/%s.fasta\" % (pb_target_dir, pdb)\n",
    "\n",
    "            if not os.path.isfile(fname):\n",
    "                with open(fname, \"w\") as o:\n",
    "                    SeqIO.write(rec, o, \"fasta\")"
   ]
  },
  {
   "cell_type": "code",
   "execution_count": 5,
   "metadata": {},
   "outputs": [],
   "source": [
    "def readPDB(fasta):\n",
    "    pdb = None\n",
    "    for record in SeqIO.parse(fasta, \"fasta\"):\n",
    "        pdb = \"\".join(list(record.seq))\n",
    "    return pdb"
   ]
  },
  {
   "cell_type": "code",
   "execution_count": 7,
   "metadata": {},
   "outputs": [
    {
     "data": {
      "text/plain": [
       "['../data/pdb_str/M32K25/12asA00',\n",
       " '../data/pdb_str/M32K25/132lA00',\n",
       " '../data/pdb_str/M32K25/153lA00',\n",
       " '../data/pdb_str/M32K25/155cA00',\n",
       " '../data/pdb_str/M32K25/16pkA02']"
      ]
     },
     "execution_count": 7,
     "metadata": {},
     "output_type": "execute_result"
    }
   ],
   "source": [
    "pb_target_dir = \"../data/pdb_str/M32K25/\"\n",
    "pb_files = [ \"\".join([pb_target_dir, f]) for f in listdir(pb_target_dir)]\n",
    "pb_files[0:5]"
   ]
  },
  {
   "cell_type": "code",
   "execution_count": 8,
   "metadata": {},
   "outputs": [],
   "source": [
    "seq = [ readPDB(f) for f in pb_files ] "
   ]
  },
  {
   "cell_type": "code",
   "execution_count": 9,
   "metadata": {},
   "outputs": [],
   "source": [
    "pdb_ids = [ f.split(\"/\")[-1].split(\".\")[0] for f in pb_files ] "
   ]
  },
  {
   "cell_type": "code",
   "execution_count": 10,
   "metadata": {},
   "outputs": [],
   "source": [
    "d = {'pdb': pdb_ids, 'seq': seq}\n",
    "df = pd.DataFrame(data=d)\n",
    "# df.to_csv(\"../data/pdb_str/pb/all_pb_cath.csv\", index=False)\n",
    "df.to_csv(\"../data/pdb_str/pb/all_m32k25_cath.csv\", index=False)"
   ]
  },
  {
   "cell_type": "code",
   "execution_count": 11,
   "metadata": {},
   "outputs": [
    {
     "data": {
      "text/html": [
       "<div>\n",
       "<style scoped>\n",
       "    .dataframe tbody tr th:only-of-type {\n",
       "        vertical-align: middle;\n",
       "    }\n",
       "\n",
       "    .dataframe tbody tr th {\n",
       "        vertical-align: top;\n",
       "    }\n",
       "\n",
       "    .dataframe thead th {\n",
       "        text-align: right;\n",
       "    }\n",
       "</style>\n",
       "<table border=\"1\" class=\"dataframe\">\n",
       "  <thead>\n",
       "    <tr style=\"text-align: right;\">\n",
       "      <th></th>\n",
       "      <th>pdb</th>\n",
       "      <th>seq</th>\n",
       "    </tr>\n",
       "  </thead>\n",
       "  <tbody>\n",
       "    <tr>\n",
       "      <th>0</th>\n",
       "      <td>12asA00</td>\n",
       "      <td>UUUUUUUUUUUUUUVUVUUWUWOQDHBHDILNBIFXSOSRFLLXOT...</td>\n",
       "    </tr>\n",
       "    <tr>\n",
       "      <th>1</th>\n",
       "      <td>132lA00</td>\n",
       "      <td>IKWVUUUUTSTPSRXMXYQCKVVUUUUTTTXKYQLUQEBGDKVPRD...</td>\n",
       "    </tr>\n",
       "    <tr>\n",
       "      <th>2</th>\n",
       "      <td>153lA00</td>\n",
       "      <td>TSWHHLVURFBLDXCKVWUUUVPQLNGXXUUUUUUUUUUTUUUVVW...</td>\n",
       "    </tr>\n",
       "    <tr>\n",
       "      <th>3</th>\n",
       "      <td>155cA00</td>\n",
       "      <td>OALVWVUVUTTUWTVWTALQIKNNHAXFEHJSNHHLRXSTXRHHXS...</td>\n",
       "    </tr>\n",
       "    <tr>\n",
       "      <th>4</th>\n",
       "      <td>16pkA02</td>\n",
       "      <td>UUUUWYAHHXAAAAAERHNJVUUSUUUVWWTUUTGNAAAEXYTVVU...</td>\n",
       "    </tr>\n",
       "  </tbody>\n",
       "</table>\n",
       "</div>"
      ],
      "text/plain": [
       "       pdb                                                seq\n",
       "0  12asA00  UUUUUUUUUUUUUUVUVUUWUWOQDHBHDILNBIFXSOSRFLLXOT...\n",
       "1  132lA00  IKWVUUUUTSTPSRXMXYQCKVVUUUUTTTXKYQLUQEBGDKVPRD...\n",
       "2  153lA00  TSWHHLVURFBLDXCKVWUUUVPQLNGXXUUUUUUUUUUTUUUVVW...\n",
       "3  155cA00  OALVWVUVUTTUWTVWTALQIKNNHAXFEHJSNHHLRXSTXRHHXS...\n",
       "4  16pkA02  UUUUWYAHHXAAAAAERHNJVUUSUUUVWWTUUTGNAAAEXYTVVU..."
      ]
     },
     "execution_count": 11,
     "metadata": {},
     "output_type": "execute_result"
    }
   ],
   "source": [
    "df.head()"
   ]
  },
  {
   "cell_type": "code",
   "execution_count": null,
   "metadata": {},
   "outputs": [],
   "source": []
  }
 ],
 "metadata": {
  "kernelspec": {
   "display_name": "Python 3",
   "language": "python",
   "name": "python3"
  },
  "language_info": {
   "codemirror_mode": {
    "name": "ipython",
    "version": 3
   },
   "file_extension": ".py",
   "mimetype": "text/x-python",
   "name": "python",
   "nbconvert_exporter": "python",
   "pygments_lexer": "ipython3",
   "version": "3.7.1"
  }
 },
 "nbformat": 4,
 "nbformat_minor": 2
}
