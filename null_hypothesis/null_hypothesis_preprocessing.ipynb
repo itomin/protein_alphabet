{
 "cells": [
  {
   "cell_type": "code",
   "execution_count": 30,
   "metadata": {},
   "outputs": [],
   "source": [
    "import pandas as pd\n",
    "import numpy as np\n",
    "import seaborn as sbn\n",
    "import matplotlib.pyplot as plt\n",
    "from itertools import groupby\n",
    "from random import choices\n",
    "import random\n",
    "from tqdm._tqdm_notebook import tqdm_notebook\n",
    "tqdm_notebook.panda s()\n",
    "from scipy import stats"
   ]
  },
  {
   "cell_type": "code",
   "execution_count": 81,
   "metadata": {},
   "outputs": [],
   "source": [
    "DATH_HOME = \"../../data/pdb_str\"\n",
    "alphabet = \"chem\""
   ]
  },
  {
   "cell_type": "code",
   "execution_count": 82,
   "metadata": {},
   "outputs": [],
   "source": [
    "df_expected_mm2 = pd.read_csv(\"%s/statistics/mm2_expected_freq_%s.csv\" % (DATH_HOME, alphabet))[[\"hit\",\"mean\"]]\n",
    "df_expected_mm1 = pd.read_csv(\"%s/statistics/mm1_expected_freq_%s.csv\" % (DATH_HOME, alphabet))[[\"hit\",\"mean\"]]\n",
    "df_expected_mm0 = pd.read_csv(\"%s/statistics/mm0_expected_freq_%s.csv\" % (DATH_HOME, alphabet))[[\"hit\",\"mean\"]]"
   ]
  },
  {
   "cell_type": "code",
   "execution_count": 83,
   "metadata": {},
   "outputs": [],
   "source": [
    "df_expected_mm0[\"mean\"] = df_expected_mm0[\"mean\"].apply(round) + 1\n",
    "df_expected_mm1[\"mean\"] = df_expected_mm1[\"mean\"].apply(round) + 1\n",
    "df_expected_mm2[\"mean\"] = df_expected_mm2[\"mean\"].apply(round) + 1"
   ]
  },
  {
   "cell_type": "code",
   "execution_count": 84,
   "metadata": {},
   "outputs": [],
   "source": [
    "df_expected_mm2.rename(columns={\"mean\":\"exp_mm2\"}, inplace=True)\n",
    "df_expected_mm1.rename(columns={\"mean\":\"exp_mm1\"}, inplace=True)\n",
    "df_expected_mm0.rename(columns={\"mean\":\"exp_mm0\"}, inplace=True)"
   ]
  },
  {
   "cell_type": "code",
   "execution_count": 85,
   "metadata": {},
   "outputs": [],
   "source": [
    "df_observed = pd.read_csv(\"%s/statistics/observed_freq_%s.csv\" % (DATH_HOME, alphabet))"
   ]
  },
  {
   "cell_type": "code",
   "execution_count": 86,
   "metadata": {},
   "outputs": [
    {
     "data": {
      "text/html": [
       "<div>\n",
       "<style scoped>\n",
       "    .dataframe tbody tr th:only-of-type {\n",
       "        vertical-align: middle;\n",
       "    }\n",
       "\n",
       "    .dataframe tbody tr th {\n",
       "        vertical-align: top;\n",
       "    }\n",
       "\n",
       "    .dataframe thead th {\n",
       "        text-align: right;\n",
       "    }\n",
       "</style>\n",
       "<table border=\"1\" class=\"dataframe\">\n",
       "  <thead>\n",
       "    <tr style=\"text-align: right;\">\n",
       "      <th></th>\n",
       "      <th>hit</th>\n",
       "      <th>exp_mm2</th>\n",
       "      <th>exp_mm1</th>\n",
       "      <th>exp_mm0</th>\n",
       "      <th>observed_freq</th>\n",
       "    </tr>\n",
       "  </thead>\n",
       "  <tbody>\n",
       "    <tr>\n",
       "      <th>0</th>\n",
       "      <td>a</td>\n",
       "      <td>22833</td>\n",
       "      <td>22844</td>\n",
       "      <td>22844</td>\n",
       "      <td>22843</td>\n",
       "    </tr>\n",
       "    <tr>\n",
       "      <th>1</th>\n",
       "      <td>aa</td>\n",
       "      <td>22824</td>\n",
       "      <td>22832</td>\n",
       "      <td>22832</td>\n",
       "      <td>22783</td>\n",
       "    </tr>\n",
       "    <tr>\n",
       "      <th>2</th>\n",
       "      <td>aaa</td>\n",
       "      <td>22298</td>\n",
       "      <td>22302</td>\n",
       "      <td>22296</td>\n",
       "      <td>21530</td>\n",
       "    </tr>\n",
       "    <tr>\n",
       "      <th>3</th>\n",
       "      <td>aaaa</td>\n",
       "      <td>18469</td>\n",
       "      <td>18639</td>\n",
       "      <td>18616</td>\n",
       "      <td>16545</td>\n",
       "    </tr>\n",
       "    <tr>\n",
       "      <th>4</th>\n",
       "      <td>aaaaa</td>\n",
       "      <td>11262</td>\n",
       "      <td>11656</td>\n",
       "      <td>11617</td>\n",
       "      <td>10146</td>\n",
       "    </tr>\n",
       "  </tbody>\n",
       "</table>\n",
       "</div>"
      ],
      "text/plain": [
       "     hit  exp_mm2  exp_mm1  exp_mm0  observed_freq\n",
       "0      a    22833    22844    22844          22843\n",
       "1     aa    22824    22832    22832          22783\n",
       "2    aaa    22298    22302    22296          21530\n",
       "3   aaaa    18469    18639    18616          16545\n",
       "4  aaaaa    11262    11656    11617          10146"
      ]
     },
     "execution_count": 86,
     "metadata": {},
     "output_type": "execute_result"
    }
   ],
   "source": [
    "_df = pd.merge(df_expected_mm2,df_expected_mm1)\n",
    "_df = pd.merge(_df,df_expected_mm0)\n",
    "df = pd.merge(_df,df_observed)\n",
    "df.head()"
   ]
  },
  {
   "cell_type": "code",
   "execution_count": 87,
   "metadata": {},
   "outputs": [],
   "source": [
    "df[\"length\"] = df.hit.apply(len)"
   ]
  },
  {
   "cell_type": "code",
   "execution_count": 88,
   "metadata": {},
   "outputs": [],
   "source": [
    "df.to_csv(\"%s/statistics/aggregated_stat_%s.csv\" % (DATH_HOME, alphabet), index=False)"
   ]
  },
  {
   "cell_type": "code",
   "execution_count": 8,
   "metadata": {},
   "outputs": [],
   "source": [
    "# alphabet = \"pb\"\n",
    "# alphabet = \"chem\"\n",
    "# alphabet = \"m32k25\"\n",
    "\n",
    "# df_counts = pd.read_csv(\"../data/pdb_str/statistics/%s_histogram_count_by_hit.csv\" % alphabet)\n",
    "# df_observed = pd.read_csv(\"../data/pdb_str/statistics/observed_freq_%s.csv\" % alphabet)\n",
    "# df_observed.observed_freq = df_observed.observed_freq + 1\n",
    "\n",
    "\n",
    "# df_expected_mm0 = pd.read_csv(\"../data/pdb_str/statistics/mm0_expected_freq_%s.csv\" % alphabet)\n",
    "\n",
    "# df_expected[\"expected_freq\"] = df_expected[\"mean\"].apply(lambda x: int(np.ceil(x)))\n",
    "# df_expected.expected_freq = df_expected.expected_freq + 1\n",
    "# df = pd.merge(df_observed, df_expected)\n",
    "# df[\"length\"] = df.hit.apply(len)\n",
    "# df[\"chi_score\"] = df[[\"observed_freq\", \"expected_freq\"]].apply(lambda x: stats.chisquare(x.observed_freq, x.expected_freq)[0], axis=1)\n",
    "# df[\"abs_diff\"] = df[[\"observed_freq\", \"expected_freq\"]].apply(lambda x: x.observed_freq - x.expected_freq, axis=1)\n",
    "# df.to_csv(\"../data/pdb_str/statistics/chi_scored_%s.csv\" % alphabet, index=False)"
   ]
  },
  {
   "cell_type": "code",
   "execution_count": null,
   "metadata": {},
   "outputs": [],
   "source": []
  }
 ],
 "metadata": {
  "kernelspec": {
   "display_name": "Python 3",
   "language": "python",
   "name": "python3"
  },
  "language_info": {
   "codemirror_mode": {
    "name": "ipython",
    "version": 3
   },
   "file_extension": ".py",
   "mimetype": "text/x-python",
   "name": "python",
   "nbconvert_exporter": "python",
   "pygments_lexer": "ipython3",
   "version": "3.7.1"
  }
 },
 "nbformat": 4,
 "nbformat_minor": 2
}
