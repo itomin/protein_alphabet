{
 "cells": [
  {
   "cell_type": "code",
   "execution_count": 2,
   "metadata": {},
   "outputs": [],
   "source": [
    "import pandas as pd\n",
    "import numpy as np\n",
    "import seaborn as sbn\n",
    "import matplotlib.pyplot as plt\n",
    "from itertools import groupby\n",
    "from random import choices\n",
    "import random\n",
    "from tqdm._tqdm_notebook import tqdm_notebook\n",
    "tqdm_notebook.pandas()\n",
    "from scipy import stats"
   ]
  },
  {
   "cell_type": "code",
   "execution_count": 13,
   "metadata": {},
   "outputs": [],
   "source": [
    "DATH_HOME = \"../../data/pdb_str\"\n",
    "alphabet = \"pb\""
   ]
  },
  {
   "cell_type": "code",
   "execution_count": 14,
   "metadata": {},
   "outputs": [],
   "source": [
    "df_expected_mm2 = pd.read_csv(\"%s/statistics/mm2_expected_freq_%s.csv\" % (DATH_HOME, alphabet))[[\"hit\",\"mean\"]]\n",
    "df_expected_mm1 = pd.read_csv(\"%s/statistics/mm1_expected_freq_%s.csv\" % (DATH_HOME, alphabet))[[\"hit\",\"mean\"]]\n",
    "df_expected_mm0 = pd.read_csv(\"%s/statistics/mm0_expected_freq_%s.csv\" % (DATH_HOME, alphabet))[[\"hit\",\"mean\"]]"
   ]
  },
  {
   "cell_type": "code",
   "execution_count": 15,
   "metadata": {},
   "outputs": [],
   "source": [
    "df_expected_mm2.rename(columns={\"mean\":\"exp_mm2\"}, inplace=True)\n",
    "df_expected_mm1.rename(columns={\"mean\":\"exp_mm1\"}, inplace=True)\n",
    "df_expected_mm0.rename(columns={\"mean\":\"exp_mm0\"}, inplace=True)"
   ]
  },
  {
   "cell_type": "code",
   "execution_count": 16,
   "metadata": {},
   "outputs": [],
   "source": [
    "df_observed = pd.read_csv(\"%s/statistics/observed_freq_%s.csv\" % (DATH_HOME, alphabet))"
   ]
  },
  {
   "cell_type": "code",
   "execution_count": 17,
   "metadata": {},
   "outputs": [
    {
     "data": {
      "text/html": [
       "<div>\n",
       "<style scoped>\n",
       "    .dataframe tbody tr th:only-of-type {\n",
       "        vertical-align: middle;\n",
       "    }\n",
       "\n",
       "    .dataframe tbody tr th {\n",
       "        vertical-align: top;\n",
       "    }\n",
       "\n",
       "    .dataframe thead th {\n",
       "        text-align: right;\n",
       "    }\n",
       "</style>\n",
       "<table border=\"1\" class=\"dataframe\">\n",
       "  <thead>\n",
       "    <tr style=\"text-align: right;\">\n",
       "      <th></th>\n",
       "      <th>hit</th>\n",
       "      <th>exp_mm2</th>\n",
       "      <th>exp_mm1</th>\n",
       "      <th>exp_mm0</th>\n",
       "      <th>observed_freq</th>\n",
       "    </tr>\n",
       "  </thead>\n",
       "  <tbody>\n",
       "    <tr>\n",
       "      <th>0</th>\n",
       "      <td>A</td>\n",
       "      <td>21581.400</td>\n",
       "      <td>22406.071</td>\n",
       "      <td>22410.441</td>\n",
       "      <td>19410</td>\n",
       "    </tr>\n",
       "    <tr>\n",
       "      <th>1</th>\n",
       "      <td>AA</td>\n",
       "      <td>14248.839</td>\n",
       "      <td>5447.057</td>\n",
       "      <td>5284.732</td>\n",
       "      <td>12893</td>\n",
       "    </tr>\n",
       "    <tr>\n",
       "      <th>2</th>\n",
       "      <td>AAA</td>\n",
       "      <td>6343.777</td>\n",
       "      <td>273.132</td>\n",
       "      <td>263.653</td>\n",
       "      <td>6301</td>\n",
       "    </tr>\n",
       "    <tr>\n",
       "      <th>3</th>\n",
       "      <td>AAAA</td>\n",
       "      <td>2177.983</td>\n",
       "      <td>11.537</td>\n",
       "      <td>11.186</td>\n",
       "      <td>2182</td>\n",
       "    </tr>\n",
       "    <tr>\n",
       "      <th>4</th>\n",
       "      <td>AAAAA</td>\n",
       "      <td>674.695</td>\n",
       "      <td>0.456</td>\n",
       "      <td>0.481</td>\n",
       "      <td>525</td>\n",
       "    </tr>\n",
       "  </tbody>\n",
       "</table>\n",
       "</div>"
      ],
      "text/plain": [
       "     hit    exp_mm2    exp_mm1    exp_mm0  observed_freq\n",
       "0      A  21581.400  22406.071  22410.441          19410\n",
       "1     AA  14248.839   5447.057   5284.732          12893\n",
       "2    AAA   6343.777    273.132    263.653           6301\n",
       "3   AAAA   2177.983     11.537     11.186           2182\n",
       "4  AAAAA    674.695      0.456      0.481            525"
      ]
     },
     "execution_count": 17,
     "metadata": {},
     "output_type": "execute_result"
    }
   ],
   "source": [
    "_df = pd.merge(df_expected_mm2,df_expected_mm1)\n",
    "_df = pd.merge(_df,df_expected_mm0)\n",
    "df = pd.merge(_df,df_observed)\n",
    "df.head()"
   ]
  },
  {
   "cell_type": "code",
   "execution_count": 18,
   "metadata": {},
   "outputs": [],
   "source": [
    "df[\"length\"] = df.hit.apply(len)"
   ]
  },
  {
   "cell_type": "code",
   "execution_count": 21,
   "metadata": {},
   "outputs": [],
   "source": [
    "df.to_csv(\"%s/statistics/aggregated_stat_%s.csv\" % (DATH_HOME, alphabet), index=False)"
   ]
  },
  {
   "cell_type": "code",
   "execution_count": 8,
   "metadata": {},
   "outputs": [],
   "source": [
    "# alphabet = \"pb\"\n",
    "# alphabet = \"chem\"\n",
    "# alphabet = \"m32k25\"\n",
    "\n",
    "# df_counts = pd.read_csv(\"../data/pdb_str/statistics/%s_histogram_count_by_hit.csv\" % alphabet)\n",
    "# df_observed = pd.read_csv(\"../data/pdb_str/statistics/observed_freq_%s.csv\" % alphabet)\n",
    "# df_observed.observed_freq = df_observed.observed_freq + 1\n",
    "\n",
    "\n",
    "# df_expected_mm0 = pd.read_csv(\"../data/pdb_str/statistics/mm0_expected_freq_%s.csv\" % alphabet)\n",
    "\n",
    "# df_expected[\"expected_freq\"] = df_expected[\"mean\"].apply(lambda x: int(np.ceil(x)))\n",
    "# df_expected.expected_freq = df_expected.expected_freq + 1\n",
    "# df = pd.merge(df_observed, df_expected)\n",
    "# df[\"length\"] = df.hit.apply(len)\n",
    "# df[\"chi_score\"] = df[[\"observed_freq\", \"expected_freq\"]].apply(lambda x: stats.chisquare(x.observed_freq, x.expected_freq)[0], axis=1)\n",
    "# df[\"abs_diff\"] = df[[\"observed_freq\", \"expected_freq\"]].apply(lambda x: x.observed_freq - x.expected_freq, axis=1)\n",
    "# df.to_csv(\"../data/pdb_str/statistics/chi_scored_%s.csv\" % alphabet, index=False)"
   ]
  },
  {
   "cell_type": "code",
   "execution_count": null,
   "metadata": {},
   "outputs": [],
   "source": []
  }
 ],
 "metadata": {
  "kernelspec": {
   "display_name": "Python 3",
   "language": "python",
   "name": "python3"
  },
  "language_info": {
   "codemirror_mode": {
    "name": "ipython",
    "version": 3
   },
   "file_extension": ".py",
   "mimetype": "text/x-python",
   "name": "python",
   "nbconvert_exporter": "python",
   "pygments_lexer": "ipython3",
   "version": "3.7.1"
  }
 },
 "nbformat": 4,
 "nbformat_minor": 2
}
