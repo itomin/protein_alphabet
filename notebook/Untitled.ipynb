{
 "cells": [
  {
   "cell_type": "code",
   "execution_count": 6,
   "metadata": {},
   "outputs": [],
   "source": [
    "import boto3\n",
    "import pandas as pd\n",
    "\n",
    "s3 = boto3.client('s3')"
   ]
  },
  {
   "cell_type": "code",
   "execution_count": 68,
   "metadata": {},
   "outputs": [],
   "source": [
    "obj = s3.get_object(Bucket='cs219hits', Key='cath_interfold_hits_all/part-r-00000-6c01d0a0-b605-4aac-b15c-6083a7748180.csv')\n",
    "hits = pd.read_csv(obj['Body'], sep=\",\", escapechar='\\\\', header=None, names=[\"hit\", \"proteins\"], encoding=\"CP437\")"
   ]
  },
  {
   "cell_type": "code",
   "execution_count": 69,
   "metadata": {},
   "outputs": [
    {
     "data": {
      "text/html": [
       "<div>\n",
       "<style scoped>\n",
       "    .dataframe tbody tr th:only-of-type {\n",
       "        vertical-align: middle;\n",
       "    }\n",
       "\n",
       "    .dataframe tbody tr th {\n",
       "        vertical-align: top;\n",
       "    }\n",
       "\n",
       "    .dataframe thead th {\n",
       "        text-align: right;\n",
       "    }\n",
       "</style>\n",
       "<table border=\"1\" class=\"dataframe\">\n",
       "  <thead>\n",
       "    <tr style=\"text-align: right;\">\n",
       "      <th></th>\n",
       "      <th>hit</th>\n",
       "      <th>proteins</th>\n",
       "    </tr>\n",
       "  </thead>\n",
       "  <tbody>\n",
       "    <tr>\n",
       "      <th>0</th>\n",
       "      <td>┬▓┬▓ΓêÜΓêÜ┬▓┬▓</td>\n",
       "      <td>3pf8:A00,3s4l:A00</td>\n",
       "    </tr>\n",
       "    <tr>\n",
       "      <th>1</th>\n",
       "      <td>ΓêÜ┬▓ΓëêΓêÜΓê₧</td>\n",
       "      <td>1f89:A00,2wtm:A00,4qlo:A00,1j31:A00</td>\n",
       "    </tr>\n",
       "    <tr>\n",
       "      <th>2</th>\n",
       "      <td>;X╧â</td>\n",
       "      <td>4dvg:B00,4ncd:A01</td>\n",
       "    </tr>\n",
       "    <tr>\n",
       "      <th>3</th>\n",
       "      <td>╬⌐ΓûÆ┬╗</td>\n",
       "      <td>3oh3:A02,4x7r:A01</td>\n",
       "    </tr>\n",
       "    <tr>\n",
       "      <th>4</th>\n",
       "      <td>Γëê┬╜┬▒</td>\n",
       "      <td>2gfn:A00,2uv8:G08,3dwc:A00,4nh0:B01,3vnn:A00,1...</td>\n",
       "    </tr>\n",
       "  </tbody>\n",
       "</table>\n",
       "</div>"
      ],
      "text/plain": [
       "              hit                                           proteins\n",
       "0  ┬▓┬▓ΓêÜΓêÜ┬▓┬▓                                  3pf8:A00,3s4l:A00\n",
       "1  ΓêÜ┬▓ΓëêΓêÜΓê₧                1f89:A00,2wtm:A00,4qlo:A00,1j31:A00\n",
       "2            ;X╧â                                  4dvg:B00,4ncd:A01\n",
       "3         ╬⌐ΓûÆ┬╗                                  3oh3:A02,4x7r:A01\n",
       "4         Γëê┬╜┬▒  2gfn:A00,2uv8:G08,3dwc:A00,4nh0:B01,3vnn:A00,1..."
      ]
     },
     "execution_count": 69,
     "metadata": {},
     "output_type": "execute_result"
    }
   ],
   "source": [
    "hits.head()"
   ]
  },
  {
   "cell_type": "code",
   "execution_count": 41,
   "metadata": {},
   "outputs": [],
   "source": [
    "df = hits.loc[[1,4,6,7,7,560,569]]"
   ]
  },
  {
   "cell_type": "code",
   "execution_count": 42,
   "metadata": {},
   "outputs": [
    {
     "data": {
      "text/html": [
       "<div>\n",
       "<style scoped>\n",
       "    .dataframe tbody tr th:only-of-type {\n",
       "        vertical-align: middle;\n",
       "    }\n",
       "\n",
       "    .dataframe tbody tr th {\n",
       "        vertical-align: top;\n",
       "    }\n",
       "\n",
       "    .dataframe thead th {\n",
       "        text-align: right;\n",
       "    }\n",
       "</style>\n",
       "<table border=\"1\" class=\"dataframe\">\n",
       "  <thead>\n",
       "    <tr style=\"text-align: right;\">\n",
       "      <th></th>\n",
       "      <th>hit</th>\n",
       "      <th>proteins</th>\n",
       "    </tr>\n",
       "  </thead>\n",
       "  <tbody>\n",
       "    <tr>\n",
       "      <th>1</th>\n",
       "      <td>√²≈√∞</td>\n",
       "      <td>1f89:A00,2wtm:A00,4qlo:A00,1j31:A00</td>\n",
       "    </tr>\n",
       "    <tr>\n",
       "      <th>4</th>\n",
       "      <td>≈½±</td>\n",
       "      <td>2gfn:A00,2uv8:G08,3dwc:A00,4nh0:B01,3vnn:A00,1...</td>\n",
       "    </tr>\n",
       "    <tr>\n",
       "      <th>6</th>\n",
       "      <td>≤√²√</td>\n",
       "      <td>2ywe:A01,4g56:B00</td>\n",
       "    </tr>\n",
       "    <tr>\n",
       "      <th>7</th>\n",
       "      <td>ú±E</td>\n",
       "      <td>4ud8:A03,3vte:A03,4pvk:A03,5d79:A03,1k3x:A01,3...</td>\n",
       "    </tr>\n",
       "    <tr>\n",
       "      <th>7</th>\n",
       "      <td>ú±E</td>\n",
       "      <td>4ud8:A03,3vte:A03,4pvk:A03,5d79:A03,1k3x:A01,3...</td>\n",
       "    </tr>\n",
       "    <tr>\n",
       "      <th>560</th>\n",
       "      <td>Iq,</td>\n",
       "      <td>1sbz:A00,2rgj:A02,4am6:A01,2ejb:A00</td>\n",
       "    </tr>\n",
       "    <tr>\n",
       "      <th>569</th>\n",
       "      <td>»⌡\"</td>\n",
       "      <td>3cjh:I00,4tpu:A02,2pn5:A10,1ryq:A00,2apo:B00</td>\n",
       "    </tr>\n",
       "  </tbody>\n",
       "</table>\n",
       "</div>"
      ],
      "text/plain": [
       "       hit                                           proteins\n",
       "1    √²≈√∞                1f89:A00,2wtm:A00,4qlo:A00,1j31:A00\n",
       "4      ≈½±  2gfn:A00,2uv8:G08,3dwc:A00,4nh0:B01,3vnn:A00,1...\n",
       "6    ≤√²√                                   2ywe:A01,4g56:B00\n",
       "7      ú±E  4ud8:A03,3vte:A03,4pvk:A03,5d79:A03,1k3x:A01,3...\n",
       "7      ú±E  4ud8:A03,3vte:A03,4pvk:A03,5d79:A03,1k3x:A01,3...\n",
       "560    Iq,                1sbz:A00,2rgj:A02,4am6:A01,2ejb:A00\n",
       "569    »⌡\"       3cjh:I00,4tpu:A02,2pn5:A10,1ryq:A00,2apo:B00"
      ]
     },
     "execution_count": 42,
     "metadata": {},
     "output_type": "execute_result"
    }
   ],
   "source": [
    "df"
   ]
  },
  {
   "cell_type": "code",
   "execution_count": 58,
   "metadata": {},
   "outputs": [
    {
     "data": {
      "text/html": [
       "<div>\n",
       "<style scoped>\n",
       "    .dataframe tbody tr th:only-of-type {\n",
       "        vertical-align: middle;\n",
       "    }\n",
       "\n",
       "    .dataframe tbody tr th {\n",
       "        vertical-align: top;\n",
       "    }\n",
       "\n",
       "    .dataframe thead th {\n",
       "        text-align: right;\n",
       "    }\n",
       "</style>\n",
       "<table border=\"1\" class=\"dataframe\">\n",
       "  <thead>\n",
       "    <tr style=\"text-align: right;\">\n",
       "      <th></th>\n",
       "      <th>hit</th>\n",
       "      <th>proteins</th>\n",
       "      <th>N</th>\n",
       "    </tr>\n",
       "  </thead>\n",
       "  <tbody>\n",
       "    <tr>\n",
       "      <th>1</th>\n",
       "      <td>√²≈√∞</td>\n",
       "      <td>1f89:A00,2wtm:A00,4qlo:A00,1j31:A00</td>\n",
       "      <td>14</td>\n",
       "    </tr>\n",
       "    <tr>\n",
       "      <th>4</th>\n",
       "      <td>≈½±</td>\n",
       "      <td>2gfn:A00,2uv8:G08,3dwc:A00,4nh0:B01,3vnn:A00,1...</td>\n",
       "      <td>7</td>\n",
       "    </tr>\n",
       "    <tr>\n",
       "      <th>6</th>\n",
       "      <td>≤√²√</td>\n",
       "      <td>2ywe:A01,4g56:B00</td>\n",
       "      <td>13</td>\n",
       "    </tr>\n",
       "    <tr>\n",
       "      <th>7</th>\n",
       "      <td>ú±E</td>\n",
       "      <td>4ud8:A03,3vte:A03,4pvk:A03,5d79:A03,1k3x:A01,3...</td>\n",
       "      <td>5</td>\n",
       "    </tr>\n",
       "    <tr>\n",
       "      <th>7</th>\n",
       "      <td>ú±E</td>\n",
       "      <td>4ud8:A03,3vte:A03,4pvk:A03,5d79:A03,1k3x:A01,3...</td>\n",
       "      <td>5</td>\n",
       "    </tr>\n",
       "    <tr>\n",
       "      <th>560</th>\n",
       "      <td>Iq,</td>\n",
       "      <td>1sbz:A00,2rgj:A02,4am6:A01,2ejb:A00</td>\n",
       "      <td>3</td>\n",
       "    </tr>\n",
       "    <tr>\n",
       "      <th>569</th>\n",
       "      <td>»⌡\"</td>\n",
       "      <td>3cjh:I00,4tpu:A02,2pn5:A10,1ryq:A00,2apo:B00</td>\n",
       "      <td>6</td>\n",
       "    </tr>\n",
       "  </tbody>\n",
       "</table>\n",
       "</div>"
      ],
      "text/plain": [
       "       hit                                           proteins   N\n",
       "1    √²≈√∞                1f89:A00,2wtm:A00,4qlo:A00,1j31:A00  14\n",
       "4      ≈½±  2gfn:A00,2uv8:G08,3dwc:A00,4nh0:B01,3vnn:A00,1...   7\n",
       "6    ≤√²√                                   2ywe:A01,4g56:B00  13\n",
       "7      ú±E  4ud8:A03,3vte:A03,4pvk:A03,5d79:A03,1k3x:A01,3...   5\n",
       "7      ú±E  4ud8:A03,3vte:A03,4pvk:A03,5d79:A03,1k3x:A01,3...   5\n",
       "560    Iq,                1sbz:A00,2rgj:A02,4am6:A01,2ejb:A00   3\n",
       "569    »⌡\"       3cjh:I00,4tpu:A02,2pn5:A10,1ryq:A00,2apo:B00   6"
      ]
     },
     "execution_count": 58,
     "metadata": {},
     "output_type": "execute_result"
    }
   ],
   "source": [
    "df.loc[:, \"N\"] = df.hit.str.len()\n",
    "df"
   ]
  },
  {
   "cell_type": "code",
   "execution_count": 64,
   "metadata": {},
   "outputs": [
    {
     "data": {
      "text/plain": [
       "'\\xc2\\xbb\\xe2\\x8c\\xa1\"'"
      ]
     },
     "execution_count": 64,
     "metadata": {},
     "output_type": "execute_result"
    }
   ],
   "source": [
    "df.loc[569].hit"
   ]
  },
  {
   "cell_type": "code",
   "execution_count": null,
   "metadata": {},
   "outputs": [],
   "source": []
  }
 ],
 "metadata": {
  "kernelspec": {
   "display_name": "Python 3",
   "language": "python",
   "name": "python3"
  },
  "language_info": {
   "codemirror_mode": {
    "name": "ipython",
    "version": 2
   },
   "file_extension": ".py",
   "mimetype": "text/x-python",
   "name": "python",
   "nbconvert_exporter": "python",
   "pygments_lexer": "ipython2",
   "version": "2.7.14"
  }
 },
 "nbformat": 4,
 "nbformat_minor": 2
}
