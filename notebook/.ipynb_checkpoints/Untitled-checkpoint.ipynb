{
 "cells": [
  {
   "cell_type": "code",
   "execution_count": 6,
   "metadata": {},
   "outputs": [],
   "source": [
    "import boto3\n",
    "import pandas as pd\n",
    "\n",
    "s3 = boto3.client('s3')"
   ]
  },
  {
   "cell_type": "code",
   "execution_count": 12,
   "metadata": {},
   "outputs": [],
   "source": [
    "obj = s3.get_object(Bucket='cs219hits', Key='cath_interfold_hits_all/part-r-00000-6c01d0a0-b605-4aac-b15c-6083a7748180.csv')\n",
    "hits = pd.read_csv(obj['Body'], sep=\",\", escapechar='\\\\', header=[\"hit\", \"proteins\"])"
   ]
  },
  {
   "cell_type": "code",
   "execution_count": 13,
   "metadata": {},
   "outputs": [
    {
     "data": {
      "text/html": [
       "<div>\n",
       "<style scoped>\n",
       "    .dataframe tbody tr th:only-of-type {\n",
       "        vertical-align: middle;\n",
       "    }\n",
       "\n",
       "    .dataframe tbody tr th {\n",
       "        vertical-align: top;\n",
       "    }\n",
       "\n",
       "    .dataframe thead th {\n",
       "        text-align: right;\n",
       "    }\n",
       "</style>\n",
       "<table border=\"1\" class=\"dataframe\">\n",
       "  <thead>\n",
       "    <tr style=\"text-align: right;\">\n",
       "      <th></th>\n",
       "      <th>²²√√²²</th>\n",
       "      <th>3pf8:A00,3s4l:A00</th>\n",
       "    </tr>\n",
       "  </thead>\n",
       "  <tbody>\n",
       "    <tr>\n",
       "      <th>0</th>\n",
       "      <td>√²≈√∞</td>\n",
       "      <td>1f89:A00,2wtm:A00,4qlo:A00,1j31:A00</td>\n",
       "    </tr>\n",
       "    <tr>\n",
       "      <th>1</th>\n",
       "      <td>;Xσ</td>\n",
       "      <td>4dvg:B00,4ncd:A01</td>\n",
       "    </tr>\n",
       "    <tr>\n",
       "      <th>2</th>\n",
       "      <td>Ω▒»</td>\n",
       "      <td>3oh3:A02,4x7r:A01</td>\n",
       "    </tr>\n",
       "    <tr>\n",
       "      <th>3</th>\n",
       "      <td>≈½±</td>\n",
       "      <td>2gfn:A00,2uv8:G08,3dwc:A00,4nh0:B01,3vnn:A00,1...</td>\n",
       "    </tr>\n",
       "    <tr>\n",
       "      <th>4</th>\n",
       "      <td>⌠δ</td>\n",
       "      <td>1p49:A01,1ru4:A00,4q69:A00,3ka7:A01,5cxp:A02,1...</td>\n",
       "    </tr>\n",
       "  </tbody>\n",
       "</table>\n",
       "</div>"
      ],
      "text/plain": [
       "  ²²√√²²                                  3pf8:A00,3s4l:A00\n",
       "0  √²≈√∞                1f89:A00,2wtm:A00,4qlo:A00,1j31:A00\n",
       "1    ;Xσ                                  4dvg:B00,4ncd:A01\n",
       "2    Ω▒»                                  3oh3:A02,4x7r:A01\n",
       "3    ≈½±  2gfn:A00,2uv8:G08,3dwc:A00,4nh0:B01,3vnn:A00,1...\n",
       "4    ⌠δ   1p49:A01,1ru4:A00,4q69:A00,3ka7:A01,5cxp:A02,1..."
      ]
     },
     "execution_count": 13,
     "metadata": {},
     "output_type": "execute_result"
    }
   ],
   "source": [
    "hits.head()"
   ]
  },
  {
   "cell_type": "code",
   "execution_count": null,
   "metadata": {},
   "outputs": [],
   "source": []
  }
 ],
 "metadata": {
  "kernelspec": {
   "display_name": "Python 3",
   "language": "python",
   "name": "python3"
  },
  "language_info": {
   "codemirror_mode": {
    "name": "ipython",
    "version": 2
   },
   "file_extension": ".py",
   "mimetype": "text/x-python",
   "name": "python",
   "nbconvert_exporter": "python",
   "pygments_lexer": "ipython2",
   "version": "2.7.14"
  }
 },
 "nbformat": 4,
 "nbformat_minor": 2
}
