{
 "cells": [
  {
   "cell_type": "markdown",
   "metadata": {},
   "source": [
    "#### Analysieren der Sequenzen 1WA3, 4JGI, TM0182 (4Q37)"
   ]
  },
  {
   "cell_type": "markdown",
   "metadata": {},
   "source": [
    "![title](resources/ref_pdb.PNG)"
   ]
  },
  {
   "cell_type": "markdown",
   "metadata": {},
   "source": [
    "#### Datenquelle: \n",
    "> ftp://orengoftp.biochem.ucl.ac.uk/cath/releases/latest-release/non-redundant-data-sets/  \n",
    "> cath-dataset-nonredundant-S40.pdb.tgz "
   ]
  },
  {
   "cell_type": "code",
   "execution_count": 3,
   "metadata": {},
   "outputs": [
    {
     "ename": "FileNotFoundError",
     "evalue": "[Errno 2] No such file or directory: 'data/pdb_str/cs219/4jgi.as'",
     "output_type": "error",
     "traceback": [
      "\u001b[1;31m---------------------------------------------------------------------------\u001b[0m",
      "\u001b[1;31mFileNotFoundError\u001b[0m                         Traceback (most recent call last)",
      "\u001b[1;32m<ipython-input-3-37ce6664c8b5>\u001b[0m in \u001b[0;36m<module>\u001b[1;34m()\u001b[0m\n\u001b[1;32m----> 1\u001b[1;33m \u001b[1;32mwith\u001b[0m \u001b[0mopen\u001b[0m\u001b[1;33m(\u001b[0m\u001b[1;34m\"data/pdb_str/cs219/4jgi.as\"\u001b[0m\u001b[1;33m,\u001b[0m \u001b[1;34m\"r\"\u001b[0m\u001b[1;33m,\u001b[0m  \u001b[0mencoding\u001b[0m\u001b[1;33m=\u001b[0m\u001b[1;34m\"cp437\"\u001b[0m\u001b[1;33m)\u001b[0m \u001b[1;32mas\u001b[0m \u001b[0mhandle\u001b[0m\u001b[1;33m:\u001b[0m\u001b[1;33m\u001b[0m\u001b[0m\n\u001b[0m\u001b[0;32m      2\u001b[0m     \u001b[1;32mfor\u001b[0m \u001b[0mrecord\u001b[0m \u001b[1;32min\u001b[0m \u001b[0mSeqIO\u001b[0m\u001b[1;33m.\u001b[0m\u001b[0mparse\u001b[0m\u001b[1;33m(\u001b[0m\u001b[0mhandle\u001b[0m\u001b[1;33m,\u001b[0m \u001b[1;34m\"fasta\"\u001b[0m\u001b[1;33m)\u001b[0m\u001b[1;33m:\u001b[0m\u001b[1;33m\u001b[0m\u001b[0m\n\u001b[0;32m      3\u001b[0m         \u001b[0mcs219\u001b[0m \u001b[1;33m=\u001b[0m \u001b[0mrecord\u001b[0m\u001b[1;33m.\u001b[0m\u001b[0mseq\u001b[0m\u001b[1;33m\u001b[0m\u001b[0m\n",
      "\u001b[1;31mFileNotFoundError\u001b[0m: [Errno 2] No such file or directory: 'data/pdb_str/cs219/4jgi.as'"
     ]
    }
   ],
   "source": [
    "with open(\"data/pdb_str/cs219/4jgi.as\", \"r\",  encoding=\"cp437\") as handle:\n",
    "    for record in SeqIO.parse(handle, \"fasta\"):\n",
    "        cs219 = record.seq"
   ]
  },
  {
   "cell_type": "code",
   "execution_count": 4,
   "metadata": {},
   "outputs": [
    {
     "name": "stdout",
     "output_type": "stream",
     "text": [
      "1wa3A00 v4_2_0 3.20.20.70 2-203:A\r\n",
      "1wa3B00 v4_2_0 3.20.20.70 2-203:B\r\n",
      "1wa3C00 v4_2_0 3.20.20.70 3-203:C\r\n",
      "1wa3D00 v4_2_0 3.20.20.70 2-204:D\r\n",
      "1wa3E00 v4_2_0 3.20.20.70 2-203:E\r\n",
      "1wa3F00 v4_2_0 3.20.20.70 3-203:F\r\n"
     ]
    }
   ],
   "source": [
    "!cat cath-b-newest-all | grep 1wa3"
   ]
  },
  {
   "cell_type": "code",
   "execution_count": 6,
   "metadata": {},
   "outputs": [
    {
     "name": "stdout",
     "output_type": "stream",
     "text": [
      ">4jgi\r\n",
      "VIDLNASAQAMSDLDEGAINEVVDKVMAKADADAAQELIKA\r\n",
      "FQQGMTKVGERFDSGEYFIGDLIFAGEILQAAMDKLKPALKRA\r\n",
      "KIVLATVEGDLHDIGKNIFRTMAEASGFEVFDLGIDVPVKIIV\r\n",
      "DKVKEVNPEIVGLSGVLTLALDSMRETVDALKAEGLRND\r\n",
      "LKVIIGGVPVNENVCQRVGADDFSTNAADGVKICQRWVG\r\n"
     ]
    }
   ],
   "source": [
    "!cat cath/4jgi.fasta"
   ]
  },
  {
   "cell_type": "code",
   "execution_count": 7,
   "metadata": {},
   "outputs": [
    {
     "name": "stdout",
     "output_type": "stream",
     "text": [
      "4jgiA01 v4_2_0 1.10.1240.10 1-80:A\r\n",
      "4jgiA02 v4_2_0 3.40.50.280 81-211:A\r\n",
      "4jgiB01 v4_2_0 1.10.1240.10 1-80:B\r\n",
      "4jgiB02 v4_2_0 3.40.50.280 81-211:B\r\n"
     ]
    }
   ],
   "source": [
    "!cat cath-b-newest-all | grep 4jgi"
   ]
  },
  {
   "cell_type": "markdown",
   "metadata": {},
   "source": [
    "Das MSA für 1wa3 und für 4jgi sehen folgendermaßen aus und wurde mit diesem Befehl erzeugt:\n",
    " > hhblits -i cath/1wa3D00.fasta -oa3m 1wa3D00.a3m  -d uniprot20_2016_02/uniprot20_2016_02 -cpu 8\n",
    " \n",
    " Ausgabe für  \n",
    "  > hhblits -i cath/4jgi.fasta -oa3m 4jgi.a3m -d uniprot20_2016_02/uniprot20_2016_02 -cpu 8\n",
    " \n",
    "```\n",
    "Search results will be written to cath/4jgi.hhr                                                   \n",
    "Reading in 8290068 column state sequences with a total of 1874100330 residues                     \n",
    "                                                                                                  \n",
    "Iteration 1                                                                                       \n",
    "Prefiltering database                                                                             \n",
    "...................................................................................               \n",
    "HMMs passed 1st prefilter (gapless profile-profile alignment)  : 139695                           \n",
    "HMMs passed 2nd prefilter (gapped profile-profile alignment)   :    395                           \n",
    "HMMs passed 2nd prefilter and not found in previous iterations :    395                           \n",
    "Scoring 395 HMMs using HMM-HMM Viterbi alignment                                                  \n",
    "...................                                                                               \n",
    "Realigning 333 HMMs using HMM-HMM Maximum Accuracy algorithm                                      \n",
    ".................................                                                                 \n",
    "Merging hits to query profile                                                                     \n",
    "114 sequences belonging to 114 database HMMs found with an E-value < 0.001                        \n",
    "Number of effective sequences of resulting query HMM: Neff = 8.03                                 \n",
    "                                                                                                  \n",
    "Iteration 2                                                                                       \n",
    "Prefiltering database                                                                             \n",
    "...................................................................................               \n",
    "HMMs passed 1st prefilter (gapless profile-profile alignment)  : 189266                           \n",
    "HMMs passed 2nd prefilter (gapped profile-profile alignment)   :   1154                           \n",
    "HMMs passed 2nd prefilter and not found in previous iterations :   1154                           \n",
    "Scoring 1154 HMMs using HMM-HMM Viterbi alignment                                                 \n",
    ".................................................. 1000 HMMs searched                             \n",
    ".......                                                                                           \n",
    "Rescoring previously found HMMs with Viterbi algorithm                                            \n",
    ".....                                                                                             \n",
    "Realigning 386 HMMs using HMM-HMM Maximum Accuracy algorithm                                      \n",
    ".................................................. 500  HMMs aligned                              \n",
    "                                                                                                  \n",
    "Merging hits to query profile                                                                     \n",
    "350 sequences belonging to 350 database HMMs found with an E-value < 0.001                        \n",
    "Number of effective sequences of resulting query HMM: Neff = 9.77                                 \n",
    "      \n",
    "Query         4jgi\n",
    "Match_columns 205\n",
    "No_of_seqs    1226 out of 2152\n",
    "Neff          8.0\n",
    "Searched_HMMs 1268\n",
    "Date          Thu Jun 13 07:33:30 2019\n",
    "Command       hhblits -i cath/4jgi.fasta -oa3m 4jgi.a3m -d uniprot20_2016_02/uniprot20_2016_02 -cpu 8\n",
    "\n",
    " No Hit                             Prob E-value P-value  Score    SS Cols Query HMM  Template HMM\n",
    "  1 tr|A0A0D8IC00|A0A0D8IC00_9CLOT 100.0 1.1E-57 5.9E-63  368.9   0.0  201    3-205     8-216 (218)\n",
    "  2 tr|A0A0D8IC00|A0A0D8IC00_9CLOT 100.0 1.1E-57 5.9E-63  368.9   0.0  201    3-205     8-216 (218)\n",
    "  3 tr|F4A349|F4A349_MAHA5 Methylt 100.0 7.2E-56   4E-61  358.9   0.0  201    3-205     3-210 (211)\n",
    "  4 tr|F4A349|F4A349_MAHA5 Methylt 100.0 7.2E-56   4E-61  358.9   0.0  201    3-205     3-210 (211)\n",
    "  5 tr|R5AM69|R5AM69_9CLOT B12 bin 100.0   7E-51 3.6E-56  354.9   0.0  201    3-205   276-482 (485)\n",
    "  6 tr|L0DUJ9|L0DUJ9_THIND B12 bin 100.0 2.3E-50 1.3E-55  347.3   0.0  195    4-201   153-355 (355)\n",
    "  7 tr|L0DUJ9|L0DUJ9_THIND B12 bin 100.0 2.3E-50 1.3E-55  347.3   0.0  195    4-201   153-355 (355)\n",
    "  8 tr|R5AM69|R5AM69_9CLOT B12 bin 100.0 3.2E-50 1.7E-55  354.9   0.0  201    3-205   276-482 (485)\n",
    "  9 tr|Q8Q0G2|Q8Q0G2_METMA Methano 100.0 4.7E-48 2.4E-53  315.6   0.0  197    4-204    42-244 (260)\n",
    " 10 tr|Q8Q0G2|Q8Q0G2_METMA Methano 100.0 4.7E-48 2.4E-53  315.6   0.0  197    4-204    42-244 (260)\n",
    " 11 tr|R5CJ64|R5CJ64_9FIRM Putativ 100.0 6.2E-45   3E-50  302.9   0.0  197    4-205   156-359 (359)\n",
    " 12 tr|H8Z742|H8Z742_9GAMM Putativ 100.0 1.2E-44 6.3E-50  310.2   0.0  197    4-204   166-370 (382)\n",
    " 13 tr|R5CJ64|R5CJ64_9FIRM Putativ 100.0 1.4E-44   7E-50  302.9   0.0  197    4-205   156-359 (359)\n",
    " 14 tr|H8Z742|H8Z742_9GAMM Putativ 100.0 4.6E-44 2.5E-49  310.2   0.0  197    4-204   166-370 (382)\n",
    " 15 tr|S4Y0I3|S4Y0I3_SORCE Unchara 100.0 1.2E-43 6.6E-49  288.9   0.0  181    3-190    22-210 (224)\n",
    " 16 tr|S4Y0I3|S4Y0I3_SORCE Unchara 100.0 1.2E-43 6.6E-49  288.9   0.0  181    3-190    22-210 (224)\n",
    " 17 tr|B8FBG6|B8FBG6_DESAA Cobalam 100.0 2.7E-43 1.3E-48  308.2   0.0  196    6-204   334-535 (545)\n",
    " 18 tr|B8FBG6|B8FBG6_DESAA Cobalam 100.0 5.6E-43 2.8E-48  308.2   0.0  196    6-204   334-535 (545)\n",
    " 19 tr|A0A0R2PZV9|A0A0R2PZV9_9ACTN 100.0 1.1E-42   6E-48  324.2   0.0  174    4-180   640-821 (821)\n",
    " 20 tr|A0A0R2PZV9|A0A0R2PZV9_9ACTN 100.0 1.1E-42   6E-48  324.2   0.0  174    4-180   640-821 (821)\n",
    " 21 tr|R5J5W6|R5J5W6_9BACE Methano 100.0 4.5E-42   2E-47  292.7   0.0  200    4-205   412-618 (622)\n",
    " 22 tr|R5J5W6|R5J5W6_9BACE Methano 100.0 6.9E-42 3.1E-47  292.7   0.0  200    4-205   412-618 (622)\n",
    " ....\n",
    "```"
   ]
  },
  {
   "cell_type": "code",
   "execution_count": 32,
   "metadata": {},
   "outputs": [
    {
     "name": "stdout",
     "output_type": "stream",
     "text": [
      ">1wa3:D00\r\n",
      "KMEELFKKHKIVAVLRANSVEEAKEKALAVFEGGVHLIEITFTVPDADTVIKELSFLKEKGAIIGAGTVTSVEQCRKAVESGAEFIVSPHLDEEISQFCKEKGVFYMPGVMTPTELVKAMKLGHTILKLFPGEVVGPQFVKAMKGPFPNVKFVPTGGVNLDNVCEWFKAGVLAVGVGSALVKGTPDEVREKAKAFVEKIRGCT\r\n",
      ">tr|A0A0Q9NHR5|A0A0Q9NHR5_9MICC Aldolase OS=Arthrobacter sp. Soil762 GN=ASG77_20495 PE=4 SV=1\r\n",
      "--AERIRAARILPVLRTKTSEQSYQMALRLLALGIGAIELTTTTEGWQDAMIRLRN-EAPDALVGAGTVVNRADAERAIEAGAEFLVSPYPVPEVRSLAAERDILLIEGSFTPGELAAAT-SR-GVAKIFPAH-VgGIAYLRSMLAVLPGARIIPTGGIPASEAAQWLEAGAFAVGVGSDLYSGD-------------------\r\n",
      ">tr|W4F552|W4F552_9BACL 2-dehydro-3-deoxyphosphogluconate aldolase OS=Viridibacillus arenosi FSL R5-213 GN=C176_04923 PE=4 SV=1\r\n",
      "--LLRMKEAGVIPVMRGMETATVIDLLQALYEGGLKAVEITIEGDE-gLDSIKVAKEHFQDk-LFVGAGTILSGADAQASIDAGADFIVTPIVVADAITVAKENDCFVAIGAFSPTEIATAYSLGADIVKVFPANT-lGADYLKNVKGPLPQIPLMPTGGIDLSNIQSYFKNGAICVGVGSAIYKFN-------------------\r\n",
      ">tr|A0A099S2J1|A0A099S2J1_9CLOT 2-dehydro-3-deoxyphosphogluconate aldolase OS=Clostridium sp. HMP27 GN=DP68_14780 PE=4 SV=1\r\n",
      "--KN-RFKNNIVTVIREKDLDFAEVLCKNIISSGIDIVEVTCIVKEAPILIDRLKRKYPN-TLIGAGTIVDKIQLKQVLNSGADFIVSPCIIEDVGKYCKSHGIFFSLGVATPTEAFKAYSLGSDIIKVFPGESLGPEFIKALKGPFPYMDLMPTGGVRDDNMEKWFEAGAYTLGVDETLVQDI-------------------\r\n",
      ">tr|V5RII1|V5RII1_SPIAP 2-keto-3-deoxygluconate-6-phosphate aldolase OS=Spiroplasma apis B31 GN=kdgA PE=4 SV=1\r\n",
      "--KEILQKEKLVAVIRTSSIDKALLTIKACLEGGFKFIEITFTIPDVEKVLQEVDKIkKTYNCIIGAGTVMNINQAKLAYKYQCDFIVSPNFSIDISNFCLEKNLLYIPGAMTINEITTINKQGWDLIKLFPANNFEKNFINTLKGPLPDIEVMPTGGVDLDNFIFWLNGGAFACGIGNHLSNLI-------------------\r\n",
      ">tr|A8RK19|A8RK19_CLOBW Uncharacterized protein OS=Clostridium bolteae (strain ATCC BAA-613 / WAL 16351) GN=CLOBOL_01104 PE=4 SV=1\r\n",
      "--MNIEKFPKVTVILRGYTYSQTRTVVKNLVGTCLGSVEITMNTPG-aLESIRKISQEFGAQIMVGAGTVLTYEEAVEAIEAGAAFLLSPTVfEKRILDLCRERGVVSVPGAFSPSEIRQSFLDGADIVKIFPAGRLGSRYVSDIQAPLGKMPLMVVGGIGTSNVQEYFAAGASFAGIGSGIFLKE-------------------\r\n",
      ">tr|G5I9S3|G5I9S3_9CLOT Uncharacterized protein OS=Hungatella hathewayi WAL-18680 GN=HMPREF9473_00263 PE=4 SV=1\r\n",
      "--MNIQHFPKVTVILRGYTYPQIRTVVKNLVGSRLRAVEITMNTPG-aLEAIEKINQEFGDSVMVGAGTVLTYEEAQASIAAGAAFLLSPTMlDKRILDLCREKDVVSVPGAFSPTEIKKSFEDGADIVKVFPAARLGSRYLSDIAAPLGKMPLMVVGGIGTANVGEYFAAGASFAGIASGIFDKQ-------------------\r\n",
      ">tr|A0A098EJT7|A0A098EJT7_9BACL KHG/KDPG aldolase OS=Planomicrobium sp. ES2 GN=kdgA_1 PE=4 SV=1\r\n",
      "--ISQVNKHKIVAIIRTDSINELEQTVQSLYRGGIRIVEITLNTPG-aLEGITSLQGKYP-d-LAIGAGTVLDPESARQAILAGATFLLAPTLKESSIAMANRYNTFIVPGVLTPTEALTAYEYGARMIKIFPARS-vGSKYITDLKGPLSHLDIMAVGGISLENAEEFLEAGSSALGIGSALVDNK-------------------\r\n",
      ">tr|F5LAU5|F5LAU5_9BACI 2-dehydro-3-deoxyphosphogluconate aldolase/4-hydroxy-2-oxoglutarate aldolase OS=Caldalkalibacillus thermarum TA2.A1 GN=CathTA2_\r\n",
      "--LQQLLENGLVVVVRRPPFREVEAIAQALVDGGVQAIEITFDSAD-aPQMIEKLKSRFGDe-VLVGAGTVLSVEQVKQAVVCGVDFVFSPHYDPKIVEETIKHGKISIPGAMTPTEIVQAHHSGADLIKVFPAST-lGPRYFKELRGPLSHIRLMPTGGVNLDNIPAFIENGAVAVGVGGALLKPA-------------------\r\n",
      ">tr|A0A0M2UD55|A0A0M2UD55_9FIRM Uncharacterized protein OS=Clostridiales bacterium PH28_bin88 GN=SY88_04495 PE=4 SV=1\r\n",
      "--AELILREGLIAIFRHVAEEQLFRTTEVFLQSGITVAEVTLNTSGALELLGKMTQKFGGEMLVGAGTVTTAEGVRQAVEAGARFIVSPTMVPEVIKACQELGVVAVPGALTPTEISQACNLGAEIIKVFPANSLg-PSYFKEIRGPLTDVNLAAVGGITLENGGAFLVAGAKVLGVGSSLVSQR-------------------\r\n",
      "cat: write error: Broken pipe\r\n"
     ]
    }
   ],
   "source": [
    "!cat a3ms/1wa3D00.a3m | head -20"
   ]
  },
  {
   "cell_type": "code",
   "execution_count": 12,
   "metadata": {},
   "outputs": [
    {
     "name": "stdout",
     "output_type": "stream",
     "text": [
      ">4jgi\r\n",
      "VIDLNASAQAMSDLDEGAINEVVDKVMAKADADAAQELIKAFQQGMTKVGERFDSGEYFIGDLIFAGEILQAAMDKLKPALKRAKIVLATVEGDLHDIGKNIFRTMAEASGFEVFDLGIDVPVKIIVDKVKEVNPEIVGLSGVLTLALDSMRETVDALKAEGLRNDLKVIIGGVPVNENVCQRVGADDFSTNAADGVKICQRWVG\r\n",
      ">tr|A0A0M0BHK8|A0A0M0BHK8_9ARCH Uncharacterized protein OS=miscellaneous Crenarchaeota group archaeon SMTZ-80 GN=AC481_02880 PE=4 SV=1\r\n",
      "-------------m---DNAINAAKKALES--GVSPYKLIEe-MRNASAAVGEKFVSNEYFISELVISGSIMKSISDIIKPHMVgketeyKAKAVIGSAPGDLHDIGKNIAVVSLMGSGFDVVDLGIDVSPEKFVDAVNNENPQIVGISALTSSTMLGIKQVVEALESSGIRNKVKVIVGGAPLTDEFAKSAGADARAKDVVHGVKICEQWIL\r\n",
      ">tr|A0A073IUY1|A0A073IUY1_9BACT Uncharacterized protein OS=Synergistes jonesii GN=EH55_10500 PE=4 SV=1\r\n",
      "-----EVRQNMVDgdg---DAAVALTNELIAG--GT-PAQEIMnGLTEEMGLLGEKFENFEVFLPDLMIAGDAFMQIMSVLKEHLVkasdapSKTVIIGTVKGDYHDIGKNIVGIVLQASGFNVVDLGADVDPVAYLEAARKEKADVVGLSALMTTTMPGQEEFIKLVKDAGEKGKYLVCVGGAPTSVEWAERIGADVWSFDAFECAAKLKKLLG\r\n",
      ">tr|K0NLU6|K0NLU6_DESTT MttC1: predicted trimethylamine corrinoid protein 1 OS=Desulfobacula toluolica (strain DSM 7467 / Tol2) GN=mttC1 PE=4 SV=1\r\n",
      "-----DIYQAVLDFKHKEIAGLVQEELAL--ETDVSEIIQdGLIAAMDELGRLYSEGTLFVPEMLIGAMTMKNGLAVLKPILAetniqsKGTIVIGTVKGDQHDVGKNLVAMMLEGAGFNVVDIGVDNDTAAFVKAISENNADIAALSSLLTTSMPSMEKIVAELKEQVSD--IKTMVGGAPVSIEFAERIGSSGYGENGPEAVQAARRLME\r\n",
      ">tr|F5YP94|F5YP94_TREPZ Methionine synthase OS=Treponema primitia (strain ATCC BAA-887 / DSM 12427 / ZAS-2) GN=TREPR_2900 PE=4 SV=1\r\n",
      "-----VIKDSLSNldd---EKALAEVKKAL-DA-NTAPDKILGECQDAMVAIGNAFSAGTMFVSDLMMAGAIFEDISKLVLPKIKaagtgksGAKVVIGTVKNDIHNIGKDIVANMLTASGFDVIDVGVDVPAENFVKAVKDSGAKALAMSCLLVSCYDSIKDTVEALKKEGLRDKVKIIIGGGPVDDHVVKYSGADGFGLDPQACIHLCEEAYA\r\n",
      ">tr|B5JGF0|B5JGF0_9BACT B12 binding domain protein OS=Verrucomicrobiae bacterium DG1235 GN=VDG1235_4271 PE=4 SV=1\r\n",
      "-----QLIEAIKVGNRKIAATATQTALDS--G-SSGKEVLgALSEGMDDVGKRFKANEIFVPEVLVAARAMKKSMELLEPILVksgikpEHTLVIGTVKGDLHDIGKNLVAMMMKGANFNVIDLGTNLPAQTILDAAIEHKADLVGLSALLTTTMPAMRETVALMNKE--PHPFKIIVGGAPITQDFADDIGADGFAIDAASTVELARTLVT\r\n",
      ">tr|E3GIL5|E3GIL5_EUBLK Cobalamin B12-binding protein OS=Eubacterium limosum (strain KIST612) GN=ELI_0484 PE=4 SV=1\r\n",
      "-----KLVELLLDGDDEEIVVEIETLLNR--GVPAAEILQnGLIPGMDIVGQEFEKEELFIPEMLAAALAMKESVKKIKPLLSeeekqsTGKVLFATVEGDIHDIGKNLCIVMLEGAGFEVQDLGIDVALTEILEATKKEKPQVLCLSALLSATMPAMQKVVDQFKMEEIH--TKVLIGGAPVTQEFADKIGADAYADDASECVSVVKQLI-\r\n",
      ">tr|I4C5F7|I4C5F7_DESTA Putative cobalamin binding protein OS=Desulfomonile tiedjei (strain ATCC 49306 / DSM 6799 / DCB-1) GN=Desti_2099 PE=4 SV=1\r\n",
      "-----ALVQNVVAGDWKDIARLTKESLDS--GTRAEDLI-hQLQAGMEVVGEKYSSGEYYLPDMMKSARCMNIAFEVLKPVMEgsnvasLGKILIGTVKSDMHDIGKNIVIGFLKGVGFDVVDLGTDVSEEKFAEEIERQKPDIVGLSSLLTTTMHEIGTVIKTLEDKGLRSSVRVVAGGAPVTEAFALSMGADAYAKDGGQAVKICKHLME\r\n",
      ">tr|A0A0F9QPG9|A0A0F9QPG9_9ZZZZ Uncharacterized protein OS=marine sediment metagenome GN=LCGC14_1069520 PE=4 SV=1\r\n",
      "-----DITANVEKGDSAAVKELTKTALSQ--KIAAEEILNdGLVKGMEVIGIKFKKNEIFIPEVLIATRAMKAGMDIIRPYFTeeknesKGKIVMGTVKGDVHDIGKKIVCMILESEGFEVVDIGIDVPKEKFLTSIKKENPDIIGMSALLTTTMVYMREVIEAVEKAKLKQNIKIIIGGAPITQSFADELKVDGYAPDGVSAVELVKNLLK\r\n",
      ">tr|R6V605|R6V605_9FIRM Methionine synthase OS=Firmicutes bacterium CAG:227 GN=BN546_00235 PE=4 SV=1\r\n",
      "-----LLKEAIEVghp---RDAQALVYQCLEE--GLSSSEIIDqAMIPAMKSAGEYYKNNDADIPRILSAARSVRKAYDILQEKFGsledesLGTIILGTVEGDLHDVGKNLVALMFRSAGFKVIDLGVDISEKQFLKAVKENpDASIVCISSLLTTALPEMQQVVKSLRKHDPKHKLKIMVGGGAVTEELAKQFGADAYSDSAIEAAEKAKTFII\r\n",
      "cat: write error: Broken pipe\r\n"
     ]
    }
   ],
   "source": [
    "!cat a3ms/4jgi.a3m | head -20"
   ]
  },
  {
   "cell_type": "markdown",
   "metadata": {},
   "source": [
    "Anschließend werden die MSAs in CS219 Sequenzen umgewandelt:\n",
    " > /usr/lib/hhsuite/bin/cstranslate -i  1wa3D00.a3m -A /usr/lib/hhsuite/data/cs219.lib -o 1wa3D00.as"
   ]
  },
  {
   "cell_type": "code",
   "execution_count": 13,
   "metadata": {},
   "outputs": [
    {
     "name": "stdout",
     "output_type": "stream",
     "text": [
      ">1wa3:D00\r\n",
      "�����<����XX|=C��ݒ���R����Rb��S&d��X/=���ʗ�|���A��<���n��~b�X!R@5=o��}{V��R��c&|�;qVN$͸U��Xq��i�\r\n",
      "���X`�X$!��5aMLq��1���&c��H4d+$S���&��ɩP�<��`�BܩŸpDk&!?���]q�eE�c&��SV��@j�<������}?�؃i�ظ����\r\n",
      "�Q5\r\n"
     ]
    }
   ],
   "source": [
    "!cat cs219/1wa3D00.as"
   ]
  },
  {
   "cell_type": "code",
   "execution_count": 15,
   "metadata": {},
   "outputs": [
    {
     "name": "stdout",
     "output_type": "stream",
     "text": [
      ">4jgi\r\n",
      "3\\����E���b���U�����ةb������������泳ݩd�B�K��XZ��J��Z�Ѷ|{���Α�������x�������VC�Υ��ZL���<@x\r\n",
      "������E���&e�l���Z����������q����a�qX�d�������������q��<���������XXX8&���������ᩄR�ȳ��sc�c����\r\n",
      "�؛��\r\n"
     ]
    }
   ],
   "source": [
    "!cat cs219/4jgi.as"
   ]
  },
  {
   "cell_type": "markdown",
   "metadata": {},
   "source": [
    "Um die Darstellung leserlicher zumachen, wurden die Zeichen in cp437 Format konvertiert:"
   ]
  },
  {
   "cell_type": "code",
   "execution_count": 1,
   "metadata": {},
   "outputs": [
    {
     "name": "stdout",
     "output_type": "stream",
     "text": [
      "\"1wa3:D00\",\"à⌐╫µε<ε╪ ôXX|=C╝ƒ▌Æⁿ»»R°Θ⌐╬ßRb│»S&d┐╬X/=Ü¢╧╩ùπ|└»╬A╪╪<ñ╪ßnôù~b≡X!R@5=oÆⁿ}{V╪╪R¡╪c&|σ;qVN$═╕Uù»Xq╪√iε╪ çX`│X$!ê¥5aMLq√≤1¢╪∞&cÆ╬H4d+$Sµ┌╫&╢µ╔⌐Pè<·π`╥B▄⌐┼╕pDk&!?╩ⁿ»]qΘ»eE╪c&╚╠SVƒª@j■<│┼Θπ²µ}?≤╪âi║╪╕╖╪∞¢±±Q5\"\r\n"
     ]
    }
   ],
   "source": [
    "!cat cs219/cs219_cp437.csv | grep 1wa3"
   ]
  },
  {
   "cell_type": "code",
   "execution_count": 3,
   "metadata": {},
   "outputs": [
    {
     "name": "stdout",
     "output_type": "stream",
     "text": [
      "\"4jgi\",\"3\\\\°°»╪E√╪∞b⌐µ═UΘµ╪╬²╪⌐bσß∞⌐╪ßφ╗ä√ôìßµ││▌⌐d°B╬KεεXZß²Jß≤Zß│╤╢|{ó÷√╬æµ≡⌐ε╪≡⌐±°x²≈ √ⁿ±ô·VCÖ╬Ñ½╛ZL°ÿ┴<@x²√⌐è∞√Eεß &e»l°√⌐Zⁿ▄°ùⁿ»µ⌐°╪∞qεß ±aüqXƒd╤╬∩∩ⁿⁿ ≡≈ ╬·ß⌐q╪ε<║╪ε═ⁿ·ù±╢┼XXX8&ⁿ÷½╩ⁿµ√∞ßß⌐äR▌╚│╬≈scΘ»c½╪≡ê²╪¢⌐±\"\r\n"
     ]
    }
   ],
   "source": [
    "!cat cs219_2.map/cs219_cp437.csv | grep 4jgi"
   ]
  },
  {
   "cell_type": "markdown",
   "metadata": {},
   "source": [
    "Die beiden Sequenzen werden anschließend in einem Suffixbaum miteinander vergliechen und es werden alle Teilsequenzen ausgegeben:"
   ]
  },
  {
   "cell_type": "code",
   "execution_count": 8,
   "metadata": {},
   "outputs": [
    {
     "name": "stdout",
     "output_type": "stream",
     "text": [
      "╪∞\n"
     ]
    }
   ],
   "source": [
    "from suffix_trees import STree\n",
    "\n",
    "a = [\"3\\\\°°»╪E√╪∞b⌐µ═UΘµ╪╬²╪⌐bσß∞⌐╪ßφ╗ä√ôìßµ││▌⌐d°B╬KεεXZß²Jß≤Zß│╤╢|{ó÷√╬æµ≡⌐ε╪≡⌐±°x²≈√ⁿ±ô·VCÖ╬Ñ½╛ZL°ÿ┴<@x²√⌐è∞√Eεß &e»l°√⌐Zⁿ▄°ùⁿ»µ⌐°╪∞qεß ±aüqXƒd╤╬∩∩ⁿⁿ ≡≈ ╬·ß⌐q╪ε<║╪ε═ⁿ·ù±╢┼XXX8&ⁿ÷½╩ⁿµ√∞ßß⌐äR▌╚│╬≈scΘ»c½╪≡ê²╪¢⌐±\",\n",
    "    \"à⌐╫µε<ε╪ ôXX|=C╝ƒ▌Æⁿ»»R°Θ⌐╬ßRb│»S&d┐╬X/=Ü¢╧╩ùπ|└»╬A╪╪<ñ╪ßnôù~b≡X!R@5=oÆⁿ}{V╪╪R¡╪c&|σ;qVN$═╕Uù»Xq╪√iε╪ çX`│X$!ê¥5aMLq√≤1¢╪∞&cÆ╬H4d+$Sµ┌╫&╢µ╔⌐Pè<·π`╥B▄⌐┼╕pDk&!?╩ⁿ»]qΘ»eE╪c&╚╠SVƒª@j■<│┼Θπ²µ}?≤╪âi║╪╕╖╪∞¢±±Q5\"]\n",
    "st = STree.STree(a)\n",
    "print(st.lcs()) "
   ]
  },
  {
   "cell_type": "markdown",
   "metadata": {},
   "source": [
    "Ursprünglich wurde das ganze in Scala mit einer anderen Library umgesetzt (Wo ich die Zeichenketten nicht hin und her kopiere).\n",
    "Screenshot:"
   ]
  },
  {
   "cell_type": "markdown",
   "metadata": {},
   "source": [
    "![title](ex_01.PNG)"
   ]
  },
  {
   "cell_type": "markdown",
   "metadata": {},
   "source": [
    "Vergleiche die PDB Sequenzen miteinander:"
   ]
  },
  {
   "cell_type": "code",
   "execution_count": 7,
   "metadata": {},
   "outputs": [
    {
     "name": "stdout",
     "output_type": "stream",
     "text": [
      "EVV\n"
     ]
    }
   ],
   "source": [
    "a= [\"KMEELFKKHKIVAVLRANSVEEAKEKALAVFEGGVHLIEITFTVPDADTVIKELSFLKEKGAIIGAGTVTSVEQCRKAVESGAEFIVSPHLDEEISQFCKEKGVFYMPGVMTPTELVKAMKLGHTILKLFPGEVVGPQFVKAMKGPFPNVKFVPTGGVNLDNVCEWFKAGVLAVGVGSALVKGTPDEVREKAKAFVEKIRGCT\",\n",
    " \"VIDLNASAQAMSDLDEGAINEVVDKVMAKADADAAQELIKAFQQGMTKVGERFDSGEYFIGDLIFAGEILQAAMDKLKPA\"]\n",
    "\n",
    "st = STree.STree(a)\n",
    "print(st.lcs()) "
   ]
  },
  {
   "cell_type": "markdown",
   "metadata": {},
   "source": [
    "Vergleiche CS219-Sequenz mit sich selbst ergibt: \"sich selbst\""
   ]
  },
  {
   "cell_type": "code",
   "execution_count": 8,
   "metadata": {},
   "outputs": [
    {
     "name": "stdout",
     "output_type": "stream",
     "text": [
      "3°▌mσ╪<⌡»iX╖»▐▄ß»╪V°}└Vσàc<»╪╪ü:│┴D²»Aò»8Ö°┼89µó=&»░;£σäYfnCDLC<╣FSúqÄΦ╪ƒp»¡<àB÷\n"
     ]
    }
   ],
   "source": [
    "a = [\"3°▌mσ╪<⌡»iX╖»▐▄ß»╪V°}└Vσàc<»╪╪ü:│┴D²»Aò»8Ö°┼89µó=&»░;£σäYfnCDLC<╣FSúqÄΦ╪ƒp»¡<àB÷\",\n",
    "    \"3°▌mσ╪<⌡»iX╖»▐▄ß»╪V°}└Vσàc<»╪╪ü:│┴D²»Aò»8Ö°┼89µó=&»░;£σäYfnCDLC<╣FSúqÄΦ╪ƒp»¡<àB÷\"]\n",
    "st = STree.STree(a)\n",
    "print(st.lcs()) "
   ]
  },
  {
   "cell_type": "markdown",
   "metadata": {},
   "source": [
    "#### Betrachten wir nun ein Beispiel wo ein längerer Hit existiert:\n",
    "- 1xxm\n",
    "- 3gmv"
   ]
  },
  {
   "cell_type": "code",
   "execution_count": 20,
   "metadata": {},
   "outputs": [
    {
     "name": "stdout",
     "output_type": "stream",
     "text": [
      "1xxmA00 v4_2_0 3.40.710.10 26-288:A\n",
      "1xxmB00 v4_2_0 3.40.710.10 26-288:B\n",
      "1xxmC01 v4_2_0 3.30.1450.10 1001-1074:C\n",
      "1xxmC02 v4_2_0 3.30.1450.10 1075-1165:C\n",
      "1xxmD01 v4_2_0 3.30.1450.10 1001-1074:D\n",
      "1xxmD02 v4_2_0 3.30.1450.10 1075-1165:D\n",
      "-----\n",
      "3gmvX00 v4_2_0 2.60.460.20 2-157:X\n"
     ]
    }
   ],
   "source": [
    "!cat cath-b-newest-all | grep 1xxm\n",
    "!echo -----\n",
    "!cat cath-b-newest-all | grep 3gmv"
   ]
  },
  {
   "cell_type": "code",
   "execution_count": 23,
   "metadata": {},
   "outputs": [
    {
     "name": "stdout",
     "output_type": "stream",
     "text": [
      ">1xxm:C01\n",
      "AGVMTGAKFTQIQFGMTRQQVLDIAGAENCETGGSFGDSIHCRGHAAGDYYAYATFGFTS\n",
      "AAADAKVDSKSQEA\n",
      "-----\n",
      ">3gmv:X00\n",
      "SGFSAEKYEQIQFGMTFDEVWEIGGGEAACDTGGVIGDSILCFTESGDYAPYGGFSFTDE\n",
      "GELWSKRNEYLYKAKTPSVKLSHYNRTALGMTEAQLWAAVPKDSCVSQGESYPNWPAKTG\n",
      "FEEKYYCAAATGLFPPSASFHLTDGVLTYRYQRSLT\n"
     ]
    }
   ],
   "source": [
    "!cat cath/1xxmC01.fasta\n",
    "!echo -----\n",
    "!cat cath/3gmvX00.fasta"
   ]
  },
  {
   "cell_type": "code",
   "execution_count": 13,
   "metadata": {},
   "outputs": [
    {
     "name": "stdout",
     "output_type": "stream",
     "text": [
      "\"1xxm:C01\",\"1═îÄ5|/P;î╜q╡+!╣Ær╜{3J{uq&SL¬y╛î═ô╟╔▐▒N2┤\\\"eî╒╪═'(╔D(8ï+î+åh111ü~PC⌠╒4é¿Y1\"\n",
      "\"3gmv:X00\",\"═jÄ5|}P;δ╜2╡+!╣Ær╜{3J{uq&S»|∙∙╛îî8╟Γ▐~2┤\\\"[å╪h═'╔ΓD╔8╒+î+å¬è~║,⌠╒4±¿L╔,n¼D¼_$N9▓xFÿ(0vl╞l!95óè6^JF┌3DºÆT\\\"l∩â■/╜($¬e$TÜæ!├à└█f \\\"ÆT_k@└Çτ$sR╔+ëG5'!╖Ck╒P╔6■ü,k\"\n"
     ]
    }
   ],
   "source": [
    "!cat cs219/cs219_cp437.csv | grep 1xxm\n",
    "!cat cs219/cs219_cp437.csv | grep 3gmv"
   ]
  },
  {
   "cell_type": "code",
   "execution_count": 26,
   "metadata": {},
   "outputs": [
    {
     "name": "stdout",
     "output_type": "stream",
     "text": [
      "len: 15, hit ╡+!╣Ær╜{3J{uq&S \n"
     ]
    }
   ],
   "source": [
    "a= [\"1═îÄ5|/P;î╜q╡+!╣Ær╜{3J{uq&SL¬y╛î═ô╟╔▐▒N2┤\\\"eî╒╪═'(╔D(8ï+î+åh111ü~PC⌠╒4é¿Y1\",\n",
    " \"═jÄ5|}P;δ╜2╡+!╣Ær╜{3J{uq&S»|∙∙╛îî8╟Γ▐~2┤\\\"[å╪h═'╔ΓD╔8╒+î+å¬è~║,⌠╒4±¿L╔,n¼D¼_$N9▓xFÿ(0vl╞l!95óè6^JF┌3DºÆT\\\"l∩â■/╜($¬e$TÜæ!├à└█f \\\"ÆT_k@└Çτ$sR╔+ëG5'!╖Ck╒P╔6■ü,k\"]\n",
    "\n",
    "st = STree.STree(a)\n",
    "hit = st.lcs()\n",
    "print(\"len: %s, hit %s \" % (len(hit), hit)) "
   ]
  },
  {
   "cell_type": "code",
   "execution_count": 27,
   "metadata": {},
   "outputs": [
    {
     "name": "stdout",
     "output_type": "stream",
     "text": [
      "len: 7, hit QIQFGMT \n"
     ]
    }
   ],
   "source": [
    "a= [\"AGVMTGAKFTQIQFGMTRQQVLDIAGAENCETGGSFGDSIHCRGHAAGDYYAYATFGFTSAAADAKVDSKSQEA\",\n",
    " \"SGFSAEKYEQIQFGMTFDEVWEIGGGEAACDTGGVIGDSILCFTESGDYAPYGGFSFTDEGELWSKRNEYLYKAKTPSVKLSHYNRTALGMTEAQLWAAVPKDSCVSQGESYPNWPAKTGFEEKYYCAAATGLFPPSASFHLTDGVLTYRYQRSLT\"]\n",
    "\n",
    "st = STree.STree(a)\n",
    "hit = st.lcs()\n",
    "print(\"len: %s, hit %s \" % (len(hit), hit)) "
   ]
  },
  {
   "cell_type": "code",
   "execution_count": null,
   "metadata": {
    "collapsed": true
   },
   "outputs": [],
   "source": []
  }
 ],
 "metadata": {
  "kernelspec": {
   "display_name": "Python 3",
   "language": "python",
   "name": "python3"
  },
  "language_info": {
   "codemirror_mode": {
    "name": "ipython",
    "version": 3
   },
   "file_extension": ".py",
   "mimetype": "text/x-python",
   "name": "python",
   "nbconvert_exporter": "python",
   "pygments_lexer": "ipython3",
   "version": "3.7.1"
  }
 },
 "nbformat": 4,
 "nbformat_minor": 2
}
